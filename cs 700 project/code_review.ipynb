{
 "cells": [
  {
   "cell_type": "code",
   "execution_count": 256,
   "metadata": {
    "ExecuteTime": {
     "end_time": "2020-10-22T16:06:40.195563Z",
     "start_time": "2020-10-22T16:06:40.192950Z"
    }
   },
   "outputs": [],
   "source": [
    "import pandas as pd\n",
    "import numpy as np\n",
    "import os"
   ]
  },
  {
   "cell_type": "code",
   "execution_count": 257,
   "metadata": {
    "ExecuteTime": {
     "end_time": "2020-10-22T16:06:40.367821Z",
     "start_time": "2020-10-22T16:06:40.365409Z"
    }
   },
   "outputs": [],
   "source": [
    "path = '../cs 700 project/data'\n",
    "DATAFILE = 'Lab 2_icsme-questions-labeled.xlsx'"
   ]
  },
  {
   "cell_type": "markdown",
   "metadata": {},
   "source": [
    "### loading dataset to dataframe"
   ]
  },
  {
   "cell_type": "code",
   "execution_count": 258,
   "metadata": {
    "ExecuteTime": {
     "end_time": "2020-10-22T16:06:40.548116Z",
     "start_time": "2020-10-22T16:06:40.480740Z"
    }
   },
   "outputs": [],
   "source": [
    "xl = pd.ExcelFile(os.path.join(path, DATAFILE))\n",
    "df = xl.parse(xl.sheet_names[0])"
   ]
  },
  {
   "cell_type": "code",
   "execution_count": 259,
   "metadata": {
    "ExecuteTime": {
     "end_time": "2020-10-22T16:06:40.638690Z",
     "start_time": "2020-10-22T16:06:40.627005Z"
    }
   },
   "outputs": [
    {
     "data": {
      "text/html": [
       "<div>\n",
       "<style scoped>\n",
       "    .dataframe tbody tr th:only-of-type {\n",
       "        vertical-align: middle;\n",
       "    }\n",
       "\n",
       "    .dataframe tbody tr th {\n",
       "        vertical-align: top;\n",
       "    }\n",
       "\n",
       "    .dataframe thead th {\n",
       "        text-align: right;\n",
       "    }\n",
       "</style>\n",
       "<table border=\"1\" class=\"dataframe\">\n",
       "  <thead>\n",
       "    <tr style=\"text-align: right;\">\n",
       "      <th></th>\n",
       "      <th>inline-comment-id</th>\n",
       "      <th># Comment</th>\n",
       "      <th>Question</th>\n",
       "      <th>Final Label</th>\n",
       "    </tr>\n",
       "  </thead>\n",
       "  <tbody>\n",
       "    <tr>\n",
       "      <th>0</th>\n",
       "      <td>84326dd1_566c7146</td>\n",
       "      <td>1</td>\n",
       "      <td>is this what they intended? don't they really ...</td>\n",
       "      <td>request for confirmation</td>\n",
       "    </tr>\n",
       "    <tr>\n",
       "      <th>1</th>\n",
       "      <td>84326dd1_566c7146</td>\n",
       "      <td>2</td>\n",
       "      <td>is this what they intended? don't they really ...</td>\n",
       "      <td>surprise</td>\n",
       "    </tr>\n",
       "    <tr>\n",
       "      <th>2</th>\n",
       "      <td>99d1f8e4_92b31cea</td>\n",
       "      <td>3</td>\n",
       "      <td>Don't we need to increment 'i' in the else cas...</td>\n",
       "      <td>suggestion</td>\n",
       "    </tr>\n",
       "    <tr>\n",
       "      <th>3</th>\n",
       "      <td>193d089f_f5fac752</td>\n",
       "      <td>4</td>\n",
       "      <td>i can't see anywhere where this is set to fals...</td>\n",
       "      <td>suggestion</td>\n",
       "    </tr>\n",
       "    <tr>\n",
       "      <th>4</th>\n",
       "      <td>50c2f81e_ac4fd6fc</td>\n",
       "      <td>5</td>\n",
       "      <td>are you sure you want to include this source f...</td>\n",
       "      <td>criticism</td>\n",
       "    </tr>\n",
       "    <tr>\n",
       "      <th>5</th>\n",
       "      <td>50c2f81e_ac4fd6fc</td>\n",
       "      <td>6</td>\n",
       "      <td>are you sure you want to include this source f...</td>\n",
       "      <td>suggestion</td>\n",
       "    </tr>\n",
       "    <tr>\n",
       "      <th>6</th>\n",
       "      <td>106fa0ad_13adacaa</td>\n",
       "      <td>7</td>\n",
       "      <td>wangying: ADDRESS_SANITIZER_RUNTIME_LIBRARY co...</td>\n",
       "      <td>request for confirmation</td>\n",
       "    </tr>\n",
       "    <tr>\n",
       "      <th>7</th>\n",
       "      <td>106fa0ad_13adacaa</td>\n",
       "      <td>8</td>\n",
       "      <td>wangying: ADDRESS_SANITIZER_RUNTIME_LIBRARY co...</td>\n",
       "      <td>hypothetical scenario</td>\n",
       "    </tr>\n",
       "    <tr>\n",
       "      <th>8</th>\n",
       "      <td>1a6dff43_0646dc80</td>\n",
       "      <td>9</td>\n",
       "      <td>Please add parentheses around this.\\n\\nAlso, c...</td>\n",
       "      <td>request for action</td>\n",
       "    </tr>\n",
       "    <tr>\n",
       "      <th>9</th>\n",
       "      <td>1fcb3196_598a0379</td>\n",
       "      <td>10</td>\n",
       "      <td>Here's this pattern again.\\n\\nIt makes me worr...</td>\n",
       "      <td>request for clarification</td>\n",
       "    </tr>\n",
       "  </tbody>\n",
       "</table>\n",
       "</div>"
      ],
      "text/plain": [
       "   inline-comment-id  # Comment  \\\n",
       "0  84326dd1_566c7146          1   \n",
       "1  84326dd1_566c7146          2   \n",
       "2  99d1f8e4_92b31cea          3   \n",
       "3  193d089f_f5fac752          4   \n",
       "4  50c2f81e_ac4fd6fc          5   \n",
       "5  50c2f81e_ac4fd6fc          6   \n",
       "6  106fa0ad_13adacaa          7   \n",
       "7  106fa0ad_13adacaa          8   \n",
       "8  1a6dff43_0646dc80          9   \n",
       "9  1fcb3196_598a0379         10   \n",
       "\n",
       "                                            Question  \\\n",
       "0  is this what they intended? don't they really ...   \n",
       "1  is this what they intended? don't they really ...   \n",
       "2  Don't we need to increment 'i' in the else cas...   \n",
       "3  i can't see anywhere where this is set to fals...   \n",
       "4  are you sure you want to include this source f...   \n",
       "5  are you sure you want to include this source f...   \n",
       "6  wangying: ADDRESS_SANITIZER_RUNTIME_LIBRARY co...   \n",
       "7  wangying: ADDRESS_SANITIZER_RUNTIME_LIBRARY co...   \n",
       "8  Please add parentheses around this.\\n\\nAlso, c...   \n",
       "9  Here's this pattern again.\\n\\nIt makes me worr...   \n",
       "\n",
       "                 Final Label  \n",
       "0   request for confirmation  \n",
       "1                   surprise  \n",
       "2                 suggestion  \n",
       "3                 suggestion  \n",
       "4                  criticism  \n",
       "5                 suggestion  \n",
       "6   request for confirmation  \n",
       "7      hypothetical scenario  \n",
       "8         request for action  \n",
       "9  request for clarification  "
      ]
     },
     "execution_count": 259,
     "metadata": {},
     "output_type": "execute_result"
    }
   ],
   "source": [
    "df.head(10)"
   ]
  },
  {
   "cell_type": "code",
   "execution_count": 260,
   "metadata": {
    "ExecuteTime": {
     "end_time": "2020-10-22T16:06:40.788386Z",
     "start_time": "2020-10-22T16:06:40.784398Z"
    }
   },
   "outputs": [
    {
     "data": {
      "text/plain": [
       "(499, 4)"
      ]
     },
     "execution_count": 260,
     "metadata": {},
     "output_type": "execute_result"
    }
   ],
   "source": [
    "df.shape"
   ]
  },
  {
   "cell_type": "code",
   "execution_count": 261,
   "metadata": {
    "ExecuteTime": {
     "end_time": "2020-10-22T16:06:40.927682Z",
     "start_time": "2020-10-22T16:06:40.922615Z"
    }
   },
   "outputs": [
    {
     "data": {
      "text/plain": [
       "array(['request for confirmation', 'surprise', 'suggestion', 'criticism',\n",
       "       'hypothetical scenario', 'request for action',\n",
       "       'request for clarification', 'request for information',\n",
       "       'request for opinion', 'rhetorical question', 'discarded',\n",
       "       'request for rationale', 'action', 'anger'], dtype=object)"
      ]
     },
     "execution_count": 261,
     "metadata": {},
     "output_type": "execute_result"
    }
   ],
   "source": [
    "df['Final Label'].unique()"
   ]
  },
  {
   "cell_type": "markdown",
   "metadata": {},
   "source": [
    "1. Suggestions\n",
    "2. Requests for Action\n",
    "3. Requests for Confirmation\n",
    "4. Other Requests\n",
    "5. Attitudes and emotions\n",
    "6. Others"
   ]
  },
  {
   "cell_type": "code",
   "execution_count": 262,
   "metadata": {
    "ExecuteTime": {
     "end_time": "2020-10-22T16:06:41.221252Z",
     "start_time": "2020-10-22T16:06:41.217857Z"
    }
   },
   "outputs": [],
   "source": [
    "label_dict = {'request for confirmation': 'request for confirmation',\n",
    "            'request for action': 'request for action',\n",
    "             'request for clarification':'Other Requests',\n",
    "             'request for information':'Other Requests',\n",
    "              'request for opinion':'Other Requests',\n",
    "             'request for rationale': 'Other Requests',\n",
    "             'surprise':'Attitudes and emotions',\n",
    "             'criticism': 'Attitudes and emotions',\n",
    "             'anger': 'Attitudes and emotions',\n",
    "             'suggestion': 'Suggestions',\n",
    "             'hypothetical scenario': 'Others',\n",
    "              'rhetorical question': 'Others',\n",
    "              'discarded': 'Others',\n",
    "              'action': 'Others'}"
   ]
  },
  {
   "cell_type": "markdown",
   "metadata": {},
   "source": [
    "### Labbel filtering"
   ]
  },
  {
   "cell_type": "code",
   "execution_count": 308,
   "metadata": {
    "ExecuteTime": {
     "end_time": "2020-10-22T16:17:30.019110Z",
     "start_time": "2020-10-22T16:17:30.008078Z"
    }
   },
   "outputs": [],
   "source": [
    "df['filtered_label'] = df.apply(lambda row: label_dict[row['Final Label']], axis=1)\n",
    "df['label_id'] = df.filtered_label.astype('category').cat.rename_categories(\n",
    "    range(1, df.filtered_label.nunique()+1))"
   ]
  },
  {
   "cell_type": "code",
   "execution_count": 309,
   "metadata": {
    "ExecuteTime": {
     "end_time": "2020-10-22T16:17:30.956481Z",
     "start_time": "2020-10-22T16:17:30.944557Z"
    }
   },
   "outputs": [
    {
     "data": {
      "text/html": [
       "<div>\n",
       "<style scoped>\n",
       "    .dataframe tbody tr th:only-of-type {\n",
       "        vertical-align: middle;\n",
       "    }\n",
       "\n",
       "    .dataframe tbody tr th {\n",
       "        vertical-align: top;\n",
       "    }\n",
       "\n",
       "    .dataframe thead th {\n",
       "        text-align: right;\n",
       "    }\n",
       "</style>\n",
       "<table border=\"1\" class=\"dataframe\">\n",
       "  <thead>\n",
       "    <tr style=\"text-align: right;\">\n",
       "      <th></th>\n",
       "      <th>inline-comment-id</th>\n",
       "      <th># Comment</th>\n",
       "      <th>Question</th>\n",
       "      <th>Final Label</th>\n",
       "      <th>filtered_label</th>\n",
       "      <th>label_id</th>\n",
       "      <th>preprocessed</th>\n",
       "    </tr>\n",
       "  </thead>\n",
       "  <tbody>\n",
       "    <tr>\n",
       "      <th>0</th>\n",
       "      <td>84326dd1_566c7146</td>\n",
       "      <td>1</td>\n",
       "      <td>is this what they intended? don't they really ...</td>\n",
       "      <td>request for confirmation</td>\n",
       "      <td>request for confirmation</td>\n",
       "      <td>6</td>\n",
       "      <td>is this what they intended? don't they really ...</td>\n",
       "    </tr>\n",
       "    <tr>\n",
       "      <th>1</th>\n",
       "      <td>84326dd1_566c7146</td>\n",
       "      <td>2</td>\n",
       "      <td>is this what they intended? don't they really ...</td>\n",
       "      <td>surprise</td>\n",
       "      <td>Attitudes and emotions</td>\n",
       "      <td>1</td>\n",
       "      <td>is this what they intended? don't they really ...</td>\n",
       "    </tr>\n",
       "    <tr>\n",
       "      <th>2</th>\n",
       "      <td>99d1f8e4_92b31cea</td>\n",
       "      <td>3</td>\n",
       "      <td>Don't we need to increment 'i' in the else cas...</td>\n",
       "      <td>suggestion</td>\n",
       "      <td>Suggestions</td>\n",
       "      <td>4</td>\n",
       "      <td>don't we need to increment 'i' in the else cas...</td>\n",
       "    </tr>\n",
       "    <tr>\n",
       "      <th>3</th>\n",
       "      <td>193d089f_f5fac752</td>\n",
       "      <td>4</td>\n",
       "      <td>i can't see anywhere where this is set to fals...</td>\n",
       "      <td>suggestion</td>\n",
       "      <td>Suggestions</td>\n",
       "      <td>4</td>\n",
       "      <td>i can't see anywhere where this is set to fals...</td>\n",
       "    </tr>\n",
       "    <tr>\n",
       "      <th>4</th>\n",
       "      <td>50c2f81e_ac4fd6fc</td>\n",
       "      <td>5</td>\n",
       "      <td>are you sure you want to include this source f...</td>\n",
       "      <td>criticism</td>\n",
       "      <td>Attitudes and emotions</td>\n",
       "      <td>1</td>\n",
       "      <td>are you sure you want to include this source f...</td>\n",
       "    </tr>\n",
       "    <tr>\n",
       "      <th>5</th>\n",
       "      <td>50c2f81e_ac4fd6fc</td>\n",
       "      <td>6</td>\n",
       "      <td>are you sure you want to include this source f...</td>\n",
       "      <td>suggestion</td>\n",
       "      <td>Suggestions</td>\n",
       "      <td>4</td>\n",
       "      <td>are you sure you want to include this source f...</td>\n",
       "    </tr>\n",
       "    <tr>\n",
       "      <th>6</th>\n",
       "      <td>106fa0ad_13adacaa</td>\n",
       "      <td>7</td>\n",
       "      <td>wangying: ADDRESS_SANITIZER_RUNTIME_LIBRARY co...</td>\n",
       "      <td>request for confirmation</td>\n",
       "      <td>request for confirmation</td>\n",
       "      <td>6</td>\n",
       "      <td>wangying: address_sanitizer_runtime_library co...</td>\n",
       "    </tr>\n",
       "    <tr>\n",
       "      <th>7</th>\n",
       "      <td>106fa0ad_13adacaa</td>\n",
       "      <td>8</td>\n",
       "      <td>wangying: ADDRESS_SANITIZER_RUNTIME_LIBRARY co...</td>\n",
       "      <td>hypothetical scenario</td>\n",
       "      <td>Others</td>\n",
       "      <td>3</td>\n",
       "      <td>wangying: address_sanitizer_runtime_library co...</td>\n",
       "    </tr>\n",
       "    <tr>\n",
       "      <th>8</th>\n",
       "      <td>1a6dff43_0646dc80</td>\n",
       "      <td>9</td>\n",
       "      <td>Please add parentheses around this.\\n\\nAlso, c...</td>\n",
       "      <td>request for action</td>\n",
       "      <td>request for action</td>\n",
       "      <td>5</td>\n",
       "      <td>please add parentheses around this. also, can ...</td>\n",
       "    </tr>\n",
       "    <tr>\n",
       "      <th>9</th>\n",
       "      <td>1fcb3196_598a0379</td>\n",
       "      <td>10</td>\n",
       "      <td>Here's this pattern again.\\n\\nIt makes me worr...</td>\n",
       "      <td>request for clarification</td>\n",
       "      <td>Other Requests</td>\n",
       "      <td>2</td>\n",
       "      <td>here's this pattern again. it makes me worried...</td>\n",
       "    </tr>\n",
       "  </tbody>\n",
       "</table>\n",
       "</div>"
      ],
      "text/plain": [
       "   inline-comment-id  # Comment  \\\n",
       "0  84326dd1_566c7146          1   \n",
       "1  84326dd1_566c7146          2   \n",
       "2  99d1f8e4_92b31cea          3   \n",
       "3  193d089f_f5fac752          4   \n",
       "4  50c2f81e_ac4fd6fc          5   \n",
       "5  50c2f81e_ac4fd6fc          6   \n",
       "6  106fa0ad_13adacaa          7   \n",
       "7  106fa0ad_13adacaa          8   \n",
       "8  1a6dff43_0646dc80          9   \n",
       "9  1fcb3196_598a0379         10   \n",
       "\n",
       "                                            Question  \\\n",
       "0  is this what they intended? don't they really ...   \n",
       "1  is this what they intended? don't they really ...   \n",
       "2  Don't we need to increment 'i' in the else cas...   \n",
       "3  i can't see anywhere where this is set to fals...   \n",
       "4  are you sure you want to include this source f...   \n",
       "5  are you sure you want to include this source f...   \n",
       "6  wangying: ADDRESS_SANITIZER_RUNTIME_LIBRARY co...   \n",
       "7  wangying: ADDRESS_SANITIZER_RUNTIME_LIBRARY co...   \n",
       "8  Please add parentheses around this.\\n\\nAlso, c...   \n",
       "9  Here's this pattern again.\\n\\nIt makes me worr...   \n",
       "\n",
       "                 Final Label            filtered_label label_id  \\\n",
       "0   request for confirmation  request for confirmation        6   \n",
       "1                   surprise    Attitudes and emotions        1   \n",
       "2                 suggestion               Suggestions        4   \n",
       "3                 suggestion               Suggestions        4   \n",
       "4                  criticism    Attitudes and emotions        1   \n",
       "5                 suggestion               Suggestions        4   \n",
       "6   request for confirmation  request for confirmation        6   \n",
       "7      hypothetical scenario                    Others        3   \n",
       "8         request for action        request for action        5   \n",
       "9  request for clarification            Other Requests        2   \n",
       "\n",
       "                                        preprocessed  \n",
       "0  is this what they intended? don't they really ...  \n",
       "1  is this what they intended? don't they really ...  \n",
       "2  don't we need to increment 'i' in the else cas...  \n",
       "3  i can't see anywhere where this is set to fals...  \n",
       "4  are you sure you want to include this source f...  \n",
       "5  are you sure you want to include this source f...  \n",
       "6  wangying: address_sanitizer_runtime_library co...  \n",
       "7  wangying: address_sanitizer_runtime_library co...  \n",
       "8  please add parentheses around this. also, can ...  \n",
       "9  here's this pattern again. it makes me worried...  "
      ]
     },
     "execution_count": 309,
     "metadata": {},
     "output_type": "execute_result"
    }
   ],
   "source": [
    "df.head(10)"
   ]
  },
  {
   "cell_type": "markdown",
   "metadata": {},
   "source": [
    "### Text preprocessing. \n",
    " Number of instance is very low. So doesn't work well when preprocessing steps like : lemma, stopword removal, pos tag filtering are used. So just lowering the text case and filtering the qword length was used as initial step."
   ]
  },
  {
   "cell_type": "code",
   "execution_count": 310,
   "metadata": {
    "ExecuteTime": {
     "end_time": "2020-10-22T16:19:33.613040Z",
     "start_time": "2020-10-22T16:19:33.017356Z"
    }
   },
   "outputs": [],
   "source": [
    "import spacy\n",
    "nlp = spacy.load('en_core_web_sm', disable=['parser', 'ner'])\n",
    "from nltk.stem.snowball import SnowballStemmer\n",
    "stemmer = SnowballStemmer(language='english')\n",
    "from bs4 import BeautifulSoup\n",
    "import re\n",
    "\n",
    "def preProcess(rawReview, features):\n",
    "    letters_only = rawReview\n",
    "    \n",
    "#     #Html tag\n",
    "#     text_only = BeautifulSoup(rawReview).get_text()\n",
    "#     #\n",
    "#     #Emain and Url\n",
    "#     noEmail = re.sub(r'([\\w\\.-]+@[\\w\\.-]+\\.\\w+)','',text_only)\n",
    "    \n",
    "#     noUrl = re.sub(r'(?i)\\b((?:[a-z][\\w-]+:(?:/{1,3}|[a-z0-9%])|www\\d{0,3}[.]| \\\n",
    "#         [a-z0-9.\\-]+[.][a-z]{2,4}/|[a-z0-9.\\-]+[.][a-z])(?:[^\\s()<>]+|\\(([^\\s()<>]+| \\\n",
    "#         (\\([^\\s()<>]+\\)))*\\))+(?:\\(([^\\s()<>]+|(\\([^\\s()<>]+\\)))*\\)|[^\\s`!()\\[\\]{};:\\'\".,<>?«»“”‘’]))','', noEmail)\n",
    "    \n",
    "#     #Emoticons\n",
    "#     smileys = \"\"\":-) :) :o) :D :-D :( :-( :o(\"\"\".split()\n",
    "#     smileyPattern = \"|\".join(map(re.escape, smileys))\n",
    "    \n",
    "#     letters_only = re.sub(\"[^a-zA-Z\" + smileyPattern + \"]\", \" \", noUrl)\n",
    "\n",
    "    words = letters_only.lower().split()     \n",
    "    \n",
    "    doc = nlp(\" \".join(words))\n",
    "#     tags=['NOUN', 'ADJ']\n",
    "    for feature in features:\n",
    "        if feature == \"word\": \n",
    "            words = [str(token) for token in doc if len(token)>1]\n",
    "        if feature == \"lemma\": \n",
    "            words = [token.lemma_ for token in doc]\n",
    "#                      token.is_stop is False and len(token)>1]\n",
    "        if feature ==\"stem\":\n",
    "            words = [stemmer.stem(token) for token in words]\n",
    "                \n",
    "                \n",
    "    words = \" \".join(words)\n",
    "    return words\n"
   ]
  },
  {
   "cell_type": "code",
   "execution_count": 311,
   "metadata": {
    "ExecuteTime": {
     "end_time": "2020-10-22T16:19:35.027424Z",
     "start_time": "2020-10-22T16:19:33.615110Z"
    }
   },
   "outputs": [],
   "source": [
    "features = []\n",
    "df['preprocessed'] = df.apply(lambda row: preProcess(row['Question'],features),axis=1) "
   ]
  },
  {
   "cell_type": "code",
   "execution_count": 312,
   "metadata": {
    "ExecuteTime": {
     "end_time": "2020-10-22T16:19:35.043070Z",
     "start_time": "2020-10-22T16:19:35.029651Z"
    }
   },
   "outputs": [
    {
     "data": {
      "text/html": [
       "<div>\n",
       "<style scoped>\n",
       "    .dataframe tbody tr th:only-of-type {\n",
       "        vertical-align: middle;\n",
       "    }\n",
       "\n",
       "    .dataframe tbody tr th {\n",
       "        vertical-align: top;\n",
       "    }\n",
       "\n",
       "    .dataframe thead th {\n",
       "        text-align: right;\n",
       "    }\n",
       "</style>\n",
       "<table border=\"1\" class=\"dataframe\">\n",
       "  <thead>\n",
       "    <tr style=\"text-align: right;\">\n",
       "      <th></th>\n",
       "      <th>inline-comment-id</th>\n",
       "      <th># Comment</th>\n",
       "      <th>Question</th>\n",
       "      <th>Final Label</th>\n",
       "      <th>filtered_label</th>\n",
       "      <th>label_id</th>\n",
       "      <th>preprocessed</th>\n",
       "    </tr>\n",
       "  </thead>\n",
       "  <tbody>\n",
       "    <tr>\n",
       "      <th>0</th>\n",
       "      <td>84326dd1_566c7146</td>\n",
       "      <td>1</td>\n",
       "      <td>is this what they intended? don't they really ...</td>\n",
       "      <td>request for confirmation</td>\n",
       "      <td>request for confirmation</td>\n",
       "      <td>6</td>\n",
       "      <td>is this what they intended? don't they really ...</td>\n",
       "    </tr>\n",
       "    <tr>\n",
       "      <th>1</th>\n",
       "      <td>84326dd1_566c7146</td>\n",
       "      <td>2</td>\n",
       "      <td>is this what they intended? don't they really ...</td>\n",
       "      <td>surprise</td>\n",
       "      <td>Attitudes and emotions</td>\n",
       "      <td>1</td>\n",
       "      <td>is this what they intended? don't they really ...</td>\n",
       "    </tr>\n",
       "    <tr>\n",
       "      <th>2</th>\n",
       "      <td>99d1f8e4_92b31cea</td>\n",
       "      <td>3</td>\n",
       "      <td>Don't we need to increment 'i' in the else cas...</td>\n",
       "      <td>suggestion</td>\n",
       "      <td>Suggestions</td>\n",
       "      <td>4</td>\n",
       "      <td>don't we need to increment 'i' in the else cas...</td>\n",
       "    </tr>\n",
       "    <tr>\n",
       "      <th>3</th>\n",
       "      <td>193d089f_f5fac752</td>\n",
       "      <td>4</td>\n",
       "      <td>i can't see anywhere where this is set to fals...</td>\n",
       "      <td>suggestion</td>\n",
       "      <td>Suggestions</td>\n",
       "      <td>4</td>\n",
       "      <td>i can't see anywhere where this is set to fals...</td>\n",
       "    </tr>\n",
       "    <tr>\n",
       "      <th>4</th>\n",
       "      <td>50c2f81e_ac4fd6fc</td>\n",
       "      <td>5</td>\n",
       "      <td>are you sure you want to include this source f...</td>\n",
       "      <td>criticism</td>\n",
       "      <td>Attitudes and emotions</td>\n",
       "      <td>1</td>\n",
       "      <td>are you sure you want to include this source f...</td>\n",
       "    </tr>\n",
       "  </tbody>\n",
       "</table>\n",
       "</div>"
      ],
      "text/plain": [
       "   inline-comment-id  # Comment  \\\n",
       "0  84326dd1_566c7146          1   \n",
       "1  84326dd1_566c7146          2   \n",
       "2  99d1f8e4_92b31cea          3   \n",
       "3  193d089f_f5fac752          4   \n",
       "4  50c2f81e_ac4fd6fc          5   \n",
       "\n",
       "                                            Question  \\\n",
       "0  is this what they intended? don't they really ...   \n",
       "1  is this what they intended? don't they really ...   \n",
       "2  Don't we need to increment 'i' in the else cas...   \n",
       "3  i can't see anywhere where this is set to fals...   \n",
       "4  are you sure you want to include this source f...   \n",
       "\n",
       "                Final Label            filtered_label label_id  \\\n",
       "0  request for confirmation  request for confirmation        6   \n",
       "1                  surprise    Attitudes and emotions        1   \n",
       "2                suggestion               Suggestions        4   \n",
       "3                suggestion               Suggestions        4   \n",
       "4                 criticism    Attitudes and emotions        1   \n",
       "\n",
       "                                        preprocessed  \n",
       "0  is this what they intended? don't they really ...  \n",
       "1  is this what they intended? don't they really ...  \n",
       "2  don't we need to increment 'i' in the else cas...  \n",
       "3  i can't see anywhere where this is set to fals...  \n",
       "4  are you sure you want to include this source f...  "
      ]
     },
     "execution_count": 312,
     "metadata": {},
     "output_type": "execute_result"
    }
   ],
   "source": [
    "df.head(5)"
   ]
  },
  {
   "cell_type": "markdown",
   "metadata": {},
   "source": [
    "### Class visualization"
   ]
  },
  {
   "cell_type": "code",
   "execution_count": 313,
   "metadata": {
    "ExecuteTime": {
     "end_time": "2020-10-22T16:19:46.669052Z",
     "start_time": "2020-10-22T16:19:46.520831Z"
    }
   },
   "outputs": [
    {
     "data": {
      "image/png": "[encoded data removed]",
      "text/plain": [
       "<Figure size 576x432 with 1 Axes>"
      ]
     },
     "metadata": {
      "needs_background": "light"
     },
     "output_type": "display_data"
    }
   ],
   "source": [
    "import matplotlib.pyplot as plt\n",
    "fig = plt.figure(figsize=(8,6))\n",
    "df.groupby('filtered_label').Question.count().plot.bar(ylim=0)\n",
    "plt.show()"
   ]
  },
  {
   "cell_type": "markdown",
   "metadata": {},
   "source": [
    "### tf-idf matrix feature building"
   ]
  },
  {
   "cell_type": "code",
   "execution_count": 314,
   "metadata": {
    "ExecuteTime": {
     "end_time": "2020-10-22T16:20:03.650680Z",
     "start_time": "2020-10-22T16:20:03.609610Z"
    }
   },
   "outputs": [
    {
     "data": {
      "text/plain": [
       "(499, 500)"
      ]
     },
     "execution_count": 314,
     "metadata": {},
     "output_type": "execute_result"
    }
   ],
   "source": [
    "from sklearn.feature_extraction.text import TfidfVectorizer\n",
    "def tf_idf_feature(df,feature_param, use_feature = False):\n",
    "    if use_feature==True:\n",
    "        tfidf = TfidfVectorizer(sublinear_tf=True, min_df=5, norm='l2', use_idf = True, \n",
    "                                ngram_range=feature_param['n_gram'], max_features = feature_param['max_f'])\n",
    "    else:\n",
    "        tfidf = TfidfVectorizer(sublinear_tf=True, min_df=5, \n",
    "                                norm='l2', encoding='latin-1', ngram_range=(1, 2), stop_words='english')\n",
    "    features = tfidf.fit_transform(df.preprocessed).toarray()\n",
    "    labels = df.label_id\n",
    "    return features, labels, tfidf\n",
    "\n",
    "feature_param = {'n_gram':(1,2),'max_f':500}\n",
    "features, labels,tfidf = tf_idf_feature(df,feature_param, True)\n",
    "features.shape"
   ]
  },
  {
   "cell_type": "code",
   "execution_count": 315,
   "metadata": {
    "ExecuteTime": {
     "end_time": "2020-10-22T16:20:09.688529Z",
     "start_time": "2020-10-22T16:20:09.682460Z"
    }
   },
   "outputs": [],
   "source": [
    "label_to_id = dict(zip(df.filtered_label,df.label_id))\n",
    "category_id_df = df[['filtered_label', 'label_id']].drop_duplicates().sort_values('label_id')"
   ]
  },
  {
   "cell_type": "code",
   "execution_count": 316,
   "metadata": {
    "ExecuteTime": {
     "end_time": "2020-10-22T16:20:10.171870Z",
     "start_time": "2020-10-22T16:20:10.167998Z"
    }
   },
   "outputs": [
    {
     "data": {
      "text/plain": [
       "{'request for confirmation': 6,\n",
       " 'Attitudes and emotions': 1,\n",
       " 'Suggestions': 4,\n",
       " 'Others': 3,\n",
       " 'request for action': 5,\n",
       " 'Other Requests': 2}"
      ]
     },
     "execution_count": 316,
     "metadata": {},
     "output_type": "execute_result"
    }
   ],
   "source": [
    "label_to_id"
   ]
  },
  {
   "cell_type": "markdown",
   "metadata": {},
   "source": [
    "### Most important unigram and bigrams according to tf-idf"
   ]
  },
  {
   "cell_type": "code",
   "execution_count": 317,
   "metadata": {
    "ExecuteTime": {
     "end_time": "2020-10-22T16:20:38.055869Z",
     "start_time": "2020-10-22T16:20:38.022816Z"
    }
   },
   "outputs": [
    {
     "name": "stdout",
     "output_type": "stream",
     "text": [
      "# 'Attitudes and emotions':\n",
      "  . Most correlated unigrams:\n",
      ". really\n",
      ". very\n",
      "  . Most correlated bigrams:\n",
      ". are you\n",
      ". does not\n",
      "\n",
      "\n",
      "\n",
      "# 'Other Requests':\n",
      "  . Most correlated unigrams:\n",
      ". build\n",
      ". why\n",
      "  . Most correlated bigrams:\n",
      ". is there\n",
      ". what is\n",
      "\n",
      "\n",
      "\n",
      "# 'Others':\n",
      "  . Most correlated unigrams:\n",
      ". will\n",
      ". two\n",
      "  . Most correlated bigrams:\n",
      ". test is\n",
      ". is not\n",
      "\n",
      "\n",
      "\n",
      "# 'Suggestions':\n",
      "  . Most correlated unigrams:\n",
      ". maybe\n",
      ". const\n",
      "  . Most correlated bigrams:\n",
      ". how about\n",
      ". would it\n",
      "\n",
      "\n",
      "\n",
      "# 'request for action':\n",
      "  . Most correlated unigrams:\n",
      ". can\n",
      ". comment\n",
      "  . Most correlated bigrams:\n",
      ". could you\n",
      ". can you\n",
      "\n",
      "\n",
      "\n",
      "# 'request for confirmation':\n",
      "  . Most correlated unigrams:\n",
      ". happen\n",
      ". still\n",
      "  . Most correlated bigrams:\n",
      ". you want\n",
      ". is it\n",
      "\n",
      "\n",
      "\n"
     ]
    }
   ],
   "source": [
    "from sklearn.feature_selection import chi2\n",
    "import numpy as np\n",
    "N = 2\n",
    "for label, label_id in sorted(label_to_id.items()):\n",
    "    features_chi2 = chi2(features, labels == label_id)\n",
    "    indices = np.argsort(features_chi2[0])\n",
    "    feature_names = np.array(tfidf.get_feature_names())[indices]\n",
    "    unigrams = [v for v in feature_names if len(v.split(' ')) == 1]\n",
    "    bigrams = [v for v in feature_names if len(v.split(' ')) == 2]\n",
    "    print(\"# '{}':\".format(label))\n",
    "    print(\"  . Most correlated unigrams:\\n. {}\".format('\\n. '.join(unigrams[-N:])))\n",
    "    print(\"  . Most correlated bigrams:\\n. {}\".format('\\n. '.join(bigrams[-N:])))\n",
    "    print(\"\\n\\n\")"
   ]
  },
  {
   "cell_type": "markdown",
   "metadata": {},
   "source": [
    "### Trying different multiclass classification models"
   ]
  },
  {
   "cell_type": "code",
   "execution_count": 318,
   "metadata": {
    "ExecuteTime": {
     "end_time": "2020-10-22T16:21:02.044121Z",
     "start_time": "2020-10-22T16:21:00.833410Z"
    }
   },
   "outputs": [
    {
     "data": {
      "image/png": "[encoded data removed]",
      "text/plain": [
       "<Figure size 432x288 with 1 Axes>"
      ]
     },
     "metadata": {
      "needs_background": "light"
     },
     "output_type": "display_data"
    }
   ],
   "source": [
    "from sklearn.model_selection import train_test_split\n",
    "from sklearn.feature_extraction.text import CountVectorizer\n",
    "from sklearn.feature_extraction.text import TfidfTransformer\n",
    "from sklearn.naive_bayes import MultinomialNB\n",
    "from sklearn.linear_model import LogisticRegression\n",
    "from sklearn.ensemble import RandomForestClassifier\n",
    "from sklearn.svm import LinearSVC\n",
    "from sklearn.model_selection import cross_val_score\n",
    "\n",
    "feature_param = {'n_gram':(1,3), 'max_f':600}\n",
    "features, labels, tfidf = tf_idf_feature(df,feature_param, True)\n",
    "\n",
    "models = [\n",
    "    RandomForestClassifier(n_estimators=200, max_depth=3, random_state=0),\n",
    "    LinearSVC(),\n",
    "    MultinomialNB(),\n",
    "    LogisticRegression(random_state=0),\n",
    "]\n",
    "CV = 3\n",
    "cv_df = pd.DataFrame(index=range(CV * len(models)))\n",
    "entries = []\n",
    "for model in models:\n",
    "    model_name = model.__class__.__name__\n",
    "    accuracies = cross_val_score(model, features, labels, scoring='accuracy', cv=CV)\n",
    "    for fold_idx, accuracy in enumerate(accuracies):\n",
    "        entries.append((model_name, fold_idx, accuracy))\n",
    "cv_df = pd.DataFrame(entries, columns=['model_name', 'fold_idx', 'accuracy'])\n",
    "\n",
    "import seaborn as sns\n",
    "sns.boxplot(x='model_name', y='accuracy', data=cv_df)\n",
    "sns.stripplot(x='model_name', y='accuracy', data=cv_df, \n",
    "              size=8, jitter=True, edgecolor=\"gray\", linewidth=2)\n",
    "plt.show()"
   ]
  },
  {
   "cell_type": "markdown",
   "metadata": {},
   "source": [
    "### Avg accuracy result. Accuracy is pretty low in all cases for now with only word features. LinearSVC gives the highest accuracy"
   ]
  },
  {
   "cell_type": "code",
   "execution_count": 319,
   "metadata": {
    "ExecuteTime": {
     "end_time": "2020-10-22T16:22:08.641456Z",
     "start_time": "2020-10-22T16:22:08.636258Z"
    }
   },
   "outputs": [
    {
     "data": {
      "text/plain": [
       "model_name\n",
       "LinearSVC                 0.484922\n",
       "LogisticRegression        0.474942\n",
       "MultinomialNB             0.457002\n",
       "RandomForestClassifier    0.410769\n",
       "Name: accuracy, dtype: float64"
      ]
     },
     "execution_count": 319,
     "metadata": {},
     "output_type": "execute_result"
    }
   ],
   "source": [
    "cv_df.groupby('model_name').accuracy.mean()"
   ]
  },
  {
   "cell_type": "markdown",
   "metadata": {},
   "source": [
    "### Classification with LinearSVC and visualizing truth vs predicted value:\n",
    "   - in most cases, it fails to idenitfy the right class except other reuests, suggestions and request to confirmation.\n",
    "   - more works need to be done "
   ]
  },
  {
   "cell_type": "code",
   "execution_count": 307,
   "metadata": {
    "ExecuteTime": {
     "end_time": "2020-10-22T16:15:50.995533Z",
     "start_time": "2020-10-22T16:15:50.673237Z"
    }
   },
   "outputs": [
    {
     "data": {
      "image/png": "[encoded data removed]",
      "text/plain": [
       "<Figure size 720x720 with 2 Axes>"
      ]
     },
     "metadata": {
      "needs_background": "light"
     },
     "output_type": "display_data"
    }
   ],
   "source": [
    "model = LinearSVC()\n",
    "X_train, X_test, y_train, y_test, indices_train, indices_test = train_test_split(features, labels, \n",
    "                                                                                 df.index, \n",
    "                                                                                 test_size=0.33, \n",
    "                                                                                 random_state=0)\n",
    "model.fit(X_train, y_train)\n",
    "y_pred = model.predict(X_test)\n",
    "from sklearn.metrics import confusion_matrix\n",
    "conf_mat = confusion_matrix(y_test, y_pred)\n",
    "fig, ax = plt.subplots(figsize=(10,10))\n",
    "sns.heatmap(conf_mat, annot=True, fmt='d',\n",
    "            xticklabels=category_id_df.filtered_label.values, yticklabels=category_id_df.filtered_label.values)\n",
    "plt.ylabel('Actual')\n",
    "plt.xlabel('Predicted')\n",
    "plt.show()"
   ]
  },
  {
   "cell_type": "code",
   "execution_count": null,
   "metadata": {},
   "outputs": [],
   "source": []
  }
 ],
 "metadata": {
  "kernelspec": {
   "display_name": "Python 3",
   "language": "python",
   "name": "python3"
  },
  "language_info": {
   "codemirror_mode": {
    "name": "ipython",
    "version": 3
   },
   "file_extension": ".py",
   "mimetype": "text/x-python",
   "name": "python",
   "nbconvert_exporter": "python",
   "pygments_lexer": "ipython3",
   "version": "3.7.6"
  }
 },
 "nbformat": 4,
 "nbformat_minor": 4
}

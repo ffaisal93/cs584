{
 "cells": [
  {
   "cell_type": "code",
   "execution_count": 6,
   "metadata": {
    "ExecuteTime": {
     "end_time": "2020-10-29T17:22:52.698014Z",
     "start_time": "2020-10-29T17:22:52.694946Z"
    }
   },
   "outputs": [],
   "source": [
    "import pandas as pd\n",
    "import numpy as np\n",
    "import os"
   ]
  },
  {
   "cell_type": "code",
   "execution_count": 546,
   "metadata": {
    "ExecuteTime": {
     "end_time": "2020-10-30T01:51:06.653939Z",
     "start_time": "2020-10-30T01:51:06.651001Z"
    }
   },
   "outputs": [],
   "source": [
    "filepath = './data/'\n",
    "trainfile = 'train.dat'\n",
    "actorfile = 'movie_actors.dat'\n",
    "directorfile =  'movie_directors.dat'\n",
    "genrafile = 'movie_genres.dat'\n",
    "movie_tagfile = 'movie_tags.dat'\n",
    "tagfile =  'tags.dat'\n",
    "testfile = 'test.dat'\n",
    "user_taggedfile = 'user_taggedmovies.dat'"
   ]
  },
  {
   "cell_type": "code",
   "execution_count": 547,
   "metadata": {
    "ExecuteTime": {
     "end_time": "2020-10-30T01:51:13.364028Z",
     "start_time": "2020-10-30T01:51:07.229098Z"
    }
   },
   "outputs": [],
   "source": [
    "import codecs\n",
    "def read_data(filepath, filename):\n",
    "    data = []\n",
    "    with codecs.open(os.path.join(filepath,filename),'r',encoding = \"ISO-8859-1\") as ff:\n",
    "        for line in ff:\n",
    "            line_data = line.split('\\t')\n",
    "            line_data[-1]=line_data[-1][:-2]\n",
    "            data.append(line_data)\n",
    "    return data\n",
    "\n",
    "df_train = pd.read_csv(os.path.join(filepath,trainfile), sep=\" \",engine='python')\n",
    "df_test = pd.read_csv(os.path.join(filepath,testfile), sep=\" \",engine='python')\n",
    "df_actor = pd.DataFrame.from_records(read_data(filepath, actorfile)[1:],columns=read_data(filepath, actorfile)[0])\n",
    "df_director = pd.DataFrame.from_records(read_data(filepath, directorfile)[1:],\n",
    "                                        columns=read_data(filepath, directorfile)[0])\n",
    "df_genre = pd.read_csv(os.path.join(filepath,genrafile), sep=\"\\t\",engine='python')\n",
    "df_movie_tag = pd.read_csv(os.path.join(filepath,movie_tagfile), sep=\"\\t\",engine='python')\n",
    "df_tag = pd.read_csv(os.path.join(filepath,tagfile), sep=\"\\t\",engine='python')\n",
    "df_test = pd.read_csv(os.path.join(filepath,testfile), sep=\" \",engine='python')\n",
    "df_user_tag = pd.read_csv(os.path.join(filepath,user_taggedfile), sep=\" \",engine='python')"
   ]
  },
  {
   "cell_type": "markdown",
   "metadata": {},
   "source": [
    "### These are garbage...Works start from next section"
   ]
  },
  {
   "cell_type": "code",
   "execution_count": 417,
   "metadata": {
    "ExecuteTime": {
     "end_time": "2020-10-29T22:34:28.633602Z",
     "start_time": "2020-10-29T22:33:48.900908Z"
    }
   },
   "outputs": [],
   "source": [
    "import networkx as nx\n",
    "def lebel_preprocess(df,primary,attr,i,att_tag=True):\n",
    "    if type(attr)!=str:\n",
    "        edge_att = attr[1]\n",
    "        attr=attr[0]\n",
    "        att_tag =False\n",
    "    df[attr] = df[attr].astype('category').cat.codes\n",
    "    df[attr] = i+df[attr].astype('str')\n",
    "    df[primary] = primary[0]+df[primary].astype('str')\n",
    "    if att_tag==True:\n",
    "        subset = df[[primary, attr]]\n",
    "        attr_t = [tuple(x) for x in subset.to_numpy()]\n",
    "    else:\n",
    "        subset = df[[primary, attr,edge_att]]\n",
    "        attr_t = [(x[0],x[1],{'w':x[2]}) for x in subset.to_numpy()]\n",
    "    g=nx.DiGraph()\n",
    "    g.add_edges_from(attr_t)\n",
    "    return subset,g\n",
    "\n",
    "\n",
    "genre_t,g_genre = lebel_preprocess(df_genre.copy(),'movieID' ,'genre', 'g')\n",
    "director_t, g_dir = lebel_preprocess(df_director.copy(),'movieID', 'directorID', 'd')\n",
    "actor_t,g_actor = lebel_preprocess(df_actor.copy(),'movieID', ['actorID','ranking'], 'a')\n",
    "mtag_t,g_mtag = lebel_preprocess(df_movie_tag.copy(), 'movieID',['tagID','tagWeight'], 't')\n",
    "utag_t,g_utag = lebel_preprocess(df_user_tag.copy(), 'userID','tagID', 't')\n",
    "utag_movie, g_utag_m = lebel_preprocess(df_user_tag.copy(), 'tagID','movieID', 'm')\n",
    "u_movie, g_u_m = lebel_preprocess(df_user_tag.copy(), 'userID','movieID', 'm')\n",
    "um_train, g_train = lebel_preprocess(df_train.copy(), 'userID','movieID', 'm')"
   ]
  },
  {
   "cell_type": "code",
   "execution_count": 471,
   "metadata": {
    "ExecuteTime": {
     "end_time": "2020-10-29T23:35:23.412131Z",
     "start_time": "2020-10-29T23:35:15.641140Z"
    }
   },
   "outputs": [],
   "source": [
    "utm_g =nx.Graph()\n",
    "utm_g.add_edges_from(g_utag.edges)\n",
    "utm_g.add_edges_from(g_utag_m.edges)\n",
    "um_pa = pd.DataFrame(nx.preferential_attachment(utm_g,g_u_m.edges()))\n",
    "um_pa[3] =um_pa[0]+um_pa[1]\n",
    "um_pa_d = dict(zip(um_pa[3],um_pa[2]))\n",
    "\n",
    "um_jc = pd.DataFrame(nx.jaccard_coefficient(utm_g,g_u_m.edges()))\n",
    "um_jc[3] =um_jc[0]+um_jc[1]\n",
    "um_jc_d = dict(zip(um_jc[3],um_jc[2]))"
   ]
  },
  {
   "cell_type": "code",
   "execution_count": 473,
   "metadata": {
    "ExecuteTime": {
     "end_time": "2020-10-29T23:37:17.679346Z",
     "start_time": "2020-10-29T23:36:45.131910Z"
    }
   },
   "outputs": [],
   "source": [
    "def movie_centrality(df,primary,attr):\n",
    "    dft = pd.get_dummies(df.set_index(primary)[attr].astype(str)).max(level=0).sort_index()\n",
    "    s,t = document_centrality(dft.values, 20)\n",
    "    m_c = dict(zip(dft.index,t))\n",
    "    return m_c\n",
    "\n",
    "mg_cent = movie_centrality(genre_t.copy(),'movieID', 'genre')\n",
    "ma_cent = movie_centrality(actor_t.loc[actor_t['ranking']=='1'].copy(),'movieID', 'actorID')\n",
    "mt_cent = movie_centrality(mtag_t.copy(),'movieID', 'tagID')"
   ]
  },
  {
   "cell_type": "code",
   "execution_count": 475,
   "metadata": {
    "ExecuteTime": {
     "end_time": "2020-10-29T23:40:06.349199Z",
     "start_time": "2020-10-29T23:39:55.245363Z"
    }
   },
   "outputs": [],
   "source": [
    "um_train[2]=um_train['userID']+um_train['movieID']\n",
    "um_train['pa']= um_train.apply(lambda row: um_pa_d[row[2]] if row[2] in um_pa_d else 0,axis=1)\n",
    "um_train['jc']= um_train.apply(lambda row: um_jc_d[row[2]] if row[2] in um_jc_d else 0,axis=1)"
   ]
  },
  {
   "cell_type": "code",
   "execution_count": 497,
   "metadata": {
    "ExecuteTime": {
     "end_time": "2020-10-30T00:11:59.663253Z",
     "start_time": "2020-10-30T00:11:38.260537Z"
    }
   },
   "outputs": [],
   "source": [
    "um_train['mg']= um_train.apply(lambda row: mg_cent[row['movieID']] if row['movieID'] in mg_cent\n",
    "                               else 0,axis=1)\n",
    "um_train['ma']= um_train.apply(lambda row: ma_cent[row['movieID']] if row['movieID'] in ma_cent\n",
    "                               else 0,axis=1)\n",
    "um_train['mt']= um_train.apply(lambda row: mt_cent[row['movieID']] if row['movieID'] in mt_cent\n",
    "                               else 0,axis=1)\n",
    "um_train['rating'] = df_train['rating']"
   ]
  },
  {
   "cell_type": "code",
   "execution_count": 229,
   "metadata": {
    "ExecuteTime": {
     "end_time": "2020-10-29T19:49:31.508437Z",
     "start_time": "2020-10-29T19:49:31.497653Z"
    }
   },
   "outputs": [],
   "source": [
    "import numpy as np\n",
    "\n",
    "\n",
    "def document_centrality(td, *args):\n",
    "    \"\"\"\n",
    "    calculate recursive term centrality\n",
    "    :param td: adjacency metrix for bi-partite graph (eg. author-keyword)\n",
    "    :param args: (eg. no of iterations)\n",
    "    :return: calculated centrality arrays for the two attributes (eg. author and keyword)\n",
    "    \"\"\"\n",
    "    if len(args) > 0:\n",
    "        n_it = args[0]\n",
    "    else:\n",
    "        n_it = 20\n",
    "    if n_it < 2:\n",
    "        n_it = 20\n",
    "    td = np.array(td)\n",
    "    n, t = np.shape(td)\n",
    "    if n > 1 and t > 1:\n",
    "        l = np.zeros((n, n_it + 1))\n",
    "        k = np.zeros((t, n_it + 1))\n",
    "        k0 = td.sum(axis=0)\n",
    "        l0 = td.sum(axis=1)\n",
    "        k[:, 0] = k0\n",
    "        l[:, 0] = l0\n",
    "\n",
    "        for i in range(1, n_it + 1):\n",
    "            k[:, i] = (1 / k0).transpose() * td.transpose().dot(l[:, i - 1])\n",
    "            l[:, i] = (1 / l0) * td.dot(k[:, i - 1])\n",
    "        x1 = k[:, 0]\n",
    "        x1[x1 == 0] = np.nan\n",
    "        x1 = np.log(x1)\n",
    "        x1 = (x1 - np.nanmean(x1)) / np.nanstd(x1, ddof=1)\n",
    "        x2 = k[:, 20]\n",
    "        x2[x2 == 0] = np.nan\n",
    "        x2 = (x2 - np.nanmean(x2)) / np.nanstd(x2, ddof=1)\n",
    "        cd = x1 + x2\n",
    "        x1 = l[:, 0]\n",
    "        x1[x1 == 0] = np.nan\n",
    "        x1 = np.log(x1)\n",
    "        x1 = (x1 - np.nanmean(x1)) / np.nanstd(x1, ddof=1)\n",
    "        x2 = l[:, 20]\n",
    "        x2[x2 == 0] = np.nan\n",
    "        x2 = (x2 - np.nanmean(x2)) / np.nanstd(x2, ddof=1)\n",
    "        ct = x1 + x2\n",
    "    else:\n",
    "        print('Size of the input matrix is too small to do something useful.')\n",
    "        ct = []\n",
    "        cd = []\n",
    "    return cd, ct\n",
    "\n",
    "\n",
    "# if __name__ == '__main__':\n",
    "#     td = [[1, 2, 3, 4], [2, 3, 4, 5], [1, 2, 7, 8], [3, 5, 1, 2]]\n",
    "#     td = [[1, 2, 3], [4, 5, 6], [3, 5, 7], [7, 1, 2], [3, 6, 4], [3, 5, 5]]\n",
    "#     Cd, Ct = document_centrality(td, 20)\n",
    "#     print(Cd,Ct)\n"
   ]
  },
  {
   "cell_type": "markdown",
   "metadata": {},
   "source": [
    "### Work starts from here"
   ]
  },
  {
   "cell_type": "code",
   "execution_count": 606,
   "metadata": {
    "ExecuteTime": {
     "end_time": "2020-10-30T02:20:30.787490Z",
     "start_time": "2020-10-30T02:20:30.782654Z"
    }
   },
   "outputs": [],
   "source": [
    "def create_matrix(df_data):\n",
    "    r_df = df_data.pivot(index = 'userID', columns ='movieID', values = 'rating').fillna(0)\n",
    "    users = list(r_df.index)\n",
    "    users_index = {users[i]: i for i in range(len(users))}\n",
    "    movies = list(r_df.columns)\n",
    "    movies_index = {movies[i]: i for i in range(len(movies))}\n",
    "    return r_df, users_index, movies_index"
   ]
  },
  {
   "cell_type": "code",
   "execution_count": 607,
   "metadata": {
    "ExecuteTime": {
     "end_time": "2020-10-30T02:20:32.795615Z",
     "start_time": "2020-10-30T02:20:32.789398Z"
    }
   },
   "outputs": [],
   "source": [
    "from scipy.sparse.linalg import svds\n",
    "from scipy.linalg import sqrtm\n",
    "\n",
    "def svd(train, k):\n",
    "    r_mat = train.values\n",
    "    user_ratings_mean = np.mean(r_mat, axis = 1)\n",
    "    r_norm = r_mat - user_ratings_mean.reshape(-1, 1)\n",
    "    \n",
    "    U, s, V = svds(r_norm, k)\n",
    "    s = np.diag(s)\n",
    "\n",
    "    # we take only the k most significant features\n",
    "    s=s[0:k,0:k]\n",
    "    U=U[:,0:k]\n",
    "    V=V[0:k,:]\n",
    "    s_root=sqrtm(s)\n",
    "    Usk=np.dot(U,s_root)\n",
    "    skV=np.dot(s_root,V)\n",
    "    UsV = np.dot(Usk, skV)\n",
    "    UsV = UsV + user_ratings_mean.reshape(-1, 1)\n",
    "    print(\"svd done\")\n",
    "    return UsV"
   ]
  },
  {
   "cell_type": "code",
   "execution_count": 608,
   "metadata": {
    "ExecuteTime": {
     "end_time": "2020-10-30T02:20:39.942987Z",
     "start_time": "2020-10-30T02:20:39.939741Z"
    }
   },
   "outputs": [],
   "source": [
    "def rmse(true, pred):\n",
    "    # this will be used towards the end\n",
    "    x = true - pred\n",
    "    return sum([xi*xi for xi in x])/len(x)"
   ]
  },
  {
   "cell_type": "code",
   "execution_count": 620,
   "metadata": {
    "ExecuteTime": {
     "end_time": "2020-10-30T02:26:41.508173Z",
     "start_time": "2020-10-30T02:26:41.504850Z"
    }
   },
   "outputs": [],
   "source": [
    "def save_output(items, item):\n",
    "    if item ==\"output\":\n",
    "        output = open(os.path.join(filepath,'output.dat'), 'w')\n",
    "        output.writelines( \"%.1f\\n\" % item for item in items )\n",
    "        output.close()"
   ]
  },
  {
   "cell_type": "code",
   "execution_count": 614,
   "metadata": {
    "ExecuteTime": {
     "end_time": "2020-10-30T02:24:38.618110Z",
     "start_time": "2020-10-30T02:24:28.297375Z"
    }
   },
   "outputs": [
    {
     "name": "stdout",
     "output_type": "stream",
     "text": [
      "svd done\n"
     ]
    }
   ],
   "source": [
    "df_data = pd.concat([df_train,df_test])\n",
    "# to test the performance over a different number of features\n",
    "\n",
    "no_of_features = [50]\n",
    "utilMat, users_index, items_index = create_matrix(df_data.copy())\n",
    "for f in no_of_features: \n",
    "    svdout = svd(utilMat, k=f)\n",
    "    pred = [] #to store the predicted ratings\n",
    "    for _,row in df_test.iterrows():\n",
    "        user = row['userID']\n",
    "        item = row['movieID']\n",
    "        u_index = users_index[user]\n",
    "        if item in items_index:\n",
    "            i_index = items_index[item]\n",
    "            pred_rating = svdout[u_index, i_index]\n",
    "        else:\n",
    "            pred_rating = np.mean(svdout[u_index, :])\n",
    "        pred.append(pred_rating)\n",
    "\n",
    "# print(rmse(df_test['rating'], pred))"
   ]
  },
  {
   "cell_type": "code",
   "execution_count": 621,
   "metadata": {
    "ExecuteTime": {
     "end_time": "2020-10-30T02:26:43.148110Z",
     "start_time": "2020-10-30T02:26:43.107797Z"
    }
   },
   "outputs": [],
   "source": [
    "save_output(pred, 'output')"
   ]
  },
  {
   "cell_type": "code",
   "execution_count": 612,
   "metadata": {
    "ExecuteTime": {
     "end_time": "2020-10-30T02:21:57.252695Z",
     "start_time": "2020-10-30T02:21:57.249366Z"
    }
   },
   "outputs": [
    {
     "data": {
      "text/plain": [
       "71299"
      ]
     },
     "execution_count": 612,
     "metadata": {},
     "output_type": "execute_result"
    }
   ],
   "source": [
    "len(pred)"
   ]
  },
  {
   "cell_type": "code",
   "execution_count": 613,
   "metadata": {
    "ExecuteTime": {
     "end_time": "2020-10-30T02:22:14.080263Z",
     "start_time": "2020-10-30T02:22:14.075840Z"
    }
   },
   "outputs": [
    {
     "data": {
      "text/plain": [
       "(71299, 2)"
      ]
     },
     "execution_count": 613,
     "metadata": {},
     "output_type": "execute_result"
    }
   ],
   "source": [
    "df_test.shape"
   ]
  },
  {
   "cell_type": "code",
   "execution_count": null,
   "metadata": {},
   "outputs": [],
   "source": []
  }
 ],
 "metadata": {
  "kernelspec": {
   "display_name": "Python 3",
   "language": "python",
   "name": "python3"
  },
  "language_info": {
   "codemirror_mode": {
    "name": "ipython",
    "version": 3
   },
   "file_extension": ".py",
   "mimetype": "text/x-python",
   "name": "python",
   "nbconvert_exporter": "python",
   "pygments_lexer": "ipython3",
   "version": "3.7.6"
  }
 },
 "nbformat": 4,
 "nbformat_minor": 4
}

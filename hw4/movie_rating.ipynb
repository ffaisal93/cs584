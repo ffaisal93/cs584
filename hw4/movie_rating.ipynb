{
 "cells": [
  {
   "cell_type": "code",
   "execution_count": 191,
   "metadata": {
    "ExecuteTime": {
     "end_time": "2020-10-30T20:55:13.249882Z",
     "start_time": "2020-10-30T20:55:13.247350Z"
    }
   },
   "outputs": [],
   "source": [
    "import pandas as pd\n",
    "import numpy as np\n",
    "import os"
   ]
  },
  {
   "cell_type": "markdown",
   "metadata": {},
   "source": [
    "### file read"
   ]
  },
  {
   "cell_type": "code",
   "execution_count": 192,
   "metadata": {
    "ExecuteTime": {
     "end_time": "2020-10-30T20:55:13.617177Z",
     "start_time": "2020-10-30T20:55:13.613884Z"
    }
   },
   "outputs": [],
   "source": [
    "filepath = './data/'\n",
    "trainfile = 'train.dat'\n",
    "actorfile = 'movie_actors.dat'\n",
    "directorfile =  'movie_directors.dat'\n",
    "genrafile = 'movie_genres.dat'\n",
    "movie_tagfile = 'movie_tags.dat'\n",
    "tagfile =  'tags.dat'\n",
    "testfile = 'test.dat'\n",
    "user_taggedfile = 'user_taggedmovies.dat'"
   ]
  },
  {
   "cell_type": "code",
   "execution_count": 193,
   "metadata": {
    "ExecuteTime": {
     "end_time": "2020-10-30T20:55:19.378588Z",
     "start_time": "2020-10-30T20:55:14.101263Z"
    }
   },
   "outputs": [],
   "source": [
    "import codecs\n",
    "def read_data(filepath, filename):\n",
    "    data = []\n",
    "    with codecs.open(os.path.join(filepath,filename),'r',encoding = \"ISO-8859-1\") as ff:\n",
    "        for line in ff:\n",
    "            line_data = line.split('\\t')\n",
    "            line_data[-1]=line_data[-1][:-2]\n",
    "            data.append(line_data)\n",
    "    return data\n",
    "\n",
    "df_train = pd.read_csv(os.path.join(filepath,trainfile), sep=\" \",engine='python')\n",
    "df_test = pd.read_csv(os.path.join(filepath,testfile), sep=\" \",engine='python')\n",
    "df_actor = pd.DataFrame.from_records(read_data(filepath, actorfile)[1:],columns=read_data(filepath, actorfile)[0])\n",
    "df_director = pd.DataFrame.from_records(read_data(filepath, directorfile)[1:],\n",
    "                                        columns=read_data(filepath, directorfile)[0])\n",
    "df_genre = pd.read_csv(os.path.join(filepath,genrafile), sep=\"\\t\",engine='python')\n",
    "df_movie_tag = pd.read_csv(os.path.join(filepath,movie_tagfile), sep=\"\\t\",engine='python')\n",
    "df_tag = pd.read_csv(os.path.join(filepath,tagfile), sep=\"\\t\",engine='python')\n",
    "df_test = pd.read_csv(os.path.join(filepath,testfile), sep=\" \",engine='python')\n",
    "df_user_tag = pd.read_csv(os.path.join(filepath,user_taggedfile), sep=\" \",engine='python')"
   ]
  },
  {
   "cell_type": "markdown",
   "metadata": {},
   "source": [
    "### save and load output"
   ]
  },
  {
   "cell_type": "code",
   "execution_count": 276,
   "metadata": {
    "ExecuteTime": {
     "end_time": "2020-10-31T00:37:25.193171Z",
     "start_time": "2020-10-31T00:37:25.187522Z"
    }
   },
   "outputs": [],
   "source": [
    "import pickle\n",
    "\n",
    "def save_output(items, item,name):\n",
    "    if item ==\"output\":\n",
    "        output = open(os.path.join(filepath,name+'output.dat'), 'w')\n",
    "        output.writelines( \"%.1f\\n\" % item for item in items )\n",
    "        output.close()\n",
    "        \n",
    "    if item ==\"dataframe\":\n",
    "        with open(os.path.join(filepath, name+\".pickle\"),'wb') as trf:\n",
    "            pickle.dump(items, trf)\n",
    "\n",
    "def load_items(name):\n",
    "    with open(os.path.join(filepath, name+\".pickle\"),'rb') as trf:\n",
    "        train_df = pickle.load(trf)\n",
    "    return train_df"
   ]
  },
  {
   "cell_type": "code",
   "execution_count": 195,
   "metadata": {
    "ExecuteTime": {
     "end_time": "2020-10-30T20:55:19.390224Z",
     "start_time": "2020-10-30T20:55:19.387946Z"
    }
   },
   "outputs": [],
   "source": [
    "train_cols = df_train.shape[0]"
   ]
  },
  {
   "cell_type": "markdown",
   "metadata": {},
   "source": [
    "### Insert genre, tag information into dataframe"
   ]
  },
  {
   "cell_type": "code",
   "execution_count": 196,
   "metadata": {
    "ExecuteTime": {
     "end_time": "2020-10-30T20:55:45.617966Z",
     "start_time": "2020-10-30T20:55:22.118270Z"
    }
   },
   "outputs": [],
   "source": [
    "df_data = pd.concat([df_train,df_test])\n",
    "genre_dict  = dict(zip(df_genre['movieID'],df_genre['genre']))\n",
    "mtag_dict = dict(zip(df_movie_tag['movieID'],df_movie_tag['tagID']))\n",
    "utag_dict  = dict(zip(zip(df_user_tag['userID'],df_user_tag['movieID']),df_user_tag['tagID']))\n",
    "df_data['genre']=df_data.apply(lambda row: genre_dict[row['movieID']], axis=1)\n",
    "df_data['mtag']=df_data.apply(lambda row: mtag_dict[row['movieID']] if row['movieID'] in mtag_dict\n",
    "                              else -1, axis=1)\n",
    "df_data['utag']=df_data.apply(lambda row: utag_dict[(row['userID'], row['movieID'])] \n",
    "                              if (row['userID'], row['movieID']) in utag_dict else row['mtag'] , axis=1)"
   ]
  },
  {
   "cell_type": "markdown",
   "metadata": {},
   "source": [
    "### User and movie Count and sum"
   ]
  },
  {
   "cell_type": "code",
   "execution_count": 197,
   "metadata": {
    "ExecuteTime": {
     "end_time": "2020-10-30T20:55:45.723013Z",
     "start_time": "2020-10-30T20:55:45.619904Z"
    }
   },
   "outputs": [],
   "source": [
    "df_data['ucount'] = df_data.groupby('userID')['userID'].transform('count')\n",
    "df_data['mcount'] = df_data.groupby('movieID')['movieID'].transform('count')\n",
    "df_data['utot'] = df_data.groupby('userID')['rating'].transform('sum')\n",
    "df_data['mtot'] = df_data.groupby('movieID')['rating'].transform('sum')"
   ]
  },
  {
   "cell_type": "code",
   "execution_count": 198,
   "metadata": {
    "ExecuteTime": {
     "end_time": "2020-10-30T20:55:45.742738Z",
     "start_time": "2020-10-30T20:55:45.725104Z"
    }
   },
   "outputs": [
    {
     "data": {
      "text/html": [
       "<div>\n",
       "<style scoped>\n",
       "    .dataframe tbody tr th:only-of-type {\n",
       "        vertical-align: middle;\n",
       "    }\n",
       "\n",
       "    .dataframe tbody tr th {\n",
       "        vertical-align: top;\n",
       "    }\n",
       "\n",
       "    .dataframe thead th {\n",
       "        text-align: right;\n",
       "    }\n",
       "</style>\n",
       "<table border=\"1\" class=\"dataframe\">\n",
       "  <thead>\n",
       "    <tr style=\"text-align: right;\">\n",
       "      <th></th>\n",
       "      <th>userID</th>\n",
       "      <th>movieID</th>\n",
       "      <th>rating</th>\n",
       "      <th>genre</th>\n",
       "      <th>mtag</th>\n",
       "      <th>utag</th>\n",
       "      <th>ucount</th>\n",
       "      <th>mcount</th>\n",
       "      <th>utot</th>\n",
       "      <th>mtot</th>\n",
       "    </tr>\n",
       "  </thead>\n",
       "  <tbody>\n",
       "    <tr>\n",
       "      <th>0</th>\n",
       "      <td>75</td>\n",
       "      <td>3</td>\n",
       "      <td>1.0</td>\n",
       "      <td>Romance</td>\n",
       "      <td>13668</td>\n",
       "      <td>13668</td>\n",
       "      <td>46</td>\n",
       "      <td>201</td>\n",
       "      <td>145.5</td>\n",
       "      <td>510.5</td>\n",
       "    </tr>\n",
       "    <tr>\n",
       "      <th>1</th>\n",
       "      <td>75</td>\n",
       "      <td>32</td>\n",
       "      <td>4.5</td>\n",
       "      <td>Thriller</td>\n",
       "      <td>15912</td>\n",
       "      <td>15912</td>\n",
       "      <td>46</td>\n",
       "      <td>978</td>\n",
       "      <td>145.5</td>\n",
       "      <td>3551.5</td>\n",
       "    </tr>\n",
       "    <tr>\n",
       "      <th>2</th>\n",
       "      <td>75</td>\n",
       "      <td>110</td>\n",
       "      <td>4.0</td>\n",
       "      <td>War</td>\n",
       "      <td>16309</td>\n",
       "      <td>16309</td>\n",
       "      <td>46</td>\n",
       "      <td>1047</td>\n",
       "      <td>145.5</td>\n",
       "      <td>3609.5</td>\n",
       "    </tr>\n",
       "    <tr>\n",
       "      <th>3</th>\n",
       "      <td>75</td>\n",
       "      <td>163</td>\n",
       "      <td>4.0</td>\n",
       "      <td>Thriller</td>\n",
       "      <td>15870</td>\n",
       "      <td>15870</td>\n",
       "      <td>46</td>\n",
       "      <td>397</td>\n",
       "      <td>145.5</td>\n",
       "      <td>1210.5</td>\n",
       "    </tr>\n",
       "    <tr>\n",
       "      <th>4</th>\n",
       "      <td>75</td>\n",
       "      <td>165</td>\n",
       "      <td>4.5</td>\n",
       "      <td>Thriller</td>\n",
       "      <td>14046</td>\n",
       "      <td>14046</td>\n",
       "      <td>46</td>\n",
       "      <td>668</td>\n",
       "      <td>145.5</td>\n",
       "      <td>2029.5</td>\n",
       "    </tr>\n",
       "    <tr>\n",
       "      <th>...</th>\n",
       "      <td>...</td>\n",
       "      <td>...</td>\n",
       "      <td>...</td>\n",
       "      <td>...</td>\n",
       "      <td>...</td>\n",
       "      <td>...</td>\n",
       "      <td>...</td>\n",
       "      <td>...</td>\n",
       "      <td>...</td>\n",
       "      <td>...</td>\n",
       "    </tr>\n",
       "    <tr>\n",
       "      <th>641694</th>\n",
       "      <td>71534</td>\n",
       "      <td>42900</td>\n",
       "      <td>4.0</td>\n",
       "      <td>Thriller</td>\n",
       "      <td>15102</td>\n",
       "      <td>15102</td>\n",
       "      <td>142</td>\n",
       "      <td>16</td>\n",
       "      <td>531.0</td>\n",
       "      <td>56.5</td>\n",
       "    </tr>\n",
       "    <tr>\n",
       "      <th>641695</th>\n",
       "      <td>71534</td>\n",
       "      <td>44555</td>\n",
       "      <td>4.0</td>\n",
       "      <td>Drama</td>\n",
       "      <td>11508</td>\n",
       "      <td>11508</td>\n",
       "      <td>142</td>\n",
       "      <td>241</td>\n",
       "      <td>531.0</td>\n",
       "      <td>885.5</td>\n",
       "    </tr>\n",
       "    <tr>\n",
       "      <th>641696</th>\n",
       "      <td>71534</td>\n",
       "      <td>46578</td>\n",
       "      <td>4.0</td>\n",
       "      <td>Drama</td>\n",
       "      <td>14458</td>\n",
       "      <td>14458</td>\n",
       "      <td>142</td>\n",
       "      <td>618</td>\n",
       "      <td>531.0</td>\n",
       "      <td>2244.0</td>\n",
       "    </tr>\n",
       "    <tr>\n",
       "      <th>641697</th>\n",
       "      <td>71534</td>\n",
       "      <td>61075</td>\n",
       "      <td>5.0</td>\n",
       "      <td>Romance</td>\n",
       "      <td>2924</td>\n",
       "      <td>2924</td>\n",
       "      <td>142</td>\n",
       "      <td>12</td>\n",
       "      <td>531.0</td>\n",
       "      <td>40.5</td>\n",
       "    </tr>\n",
       "    <tr>\n",
       "      <th>641698</th>\n",
       "      <td>71534</td>\n",
       "      <td>62049</td>\n",
       "      <td>4.5</td>\n",
       "      <td>Sci-Fi</td>\n",
       "      <td>4381</td>\n",
       "      <td>4381</td>\n",
       "      <td>142</td>\n",
       "      <td>13</td>\n",
       "      <td>531.0</td>\n",
       "      <td>32.0</td>\n",
       "    </tr>\n",
       "  </tbody>\n",
       "</table>\n",
       "<p>641699 rows × 10 columns</p>\n",
       "</div>"
      ],
      "text/plain": [
       "        userID  movieID  rating     genre   mtag   utag  ucount  mcount  \\\n",
       "0           75        3     1.0   Romance  13668  13668      46     201   \n",
       "1           75       32     4.5  Thriller  15912  15912      46     978   \n",
       "2           75      110     4.0       War  16309  16309      46    1047   \n",
       "3           75      163     4.0  Thriller  15870  15870      46     397   \n",
       "4           75      165     4.5  Thriller  14046  14046      46     668   \n",
       "...        ...      ...     ...       ...    ...    ...     ...     ...   \n",
       "641694   71534    42900     4.0  Thriller  15102  15102     142      16   \n",
       "641695   71534    44555     4.0     Drama  11508  11508     142     241   \n",
       "641696   71534    46578     4.0     Drama  14458  14458     142     618   \n",
       "641697   71534    61075     5.0   Romance   2924   2924     142      12   \n",
       "641698   71534    62049     4.5    Sci-Fi   4381   4381     142      13   \n",
       "\n",
       "         utot    mtot  \n",
       "0       145.5   510.5  \n",
       "1       145.5  3551.5  \n",
       "2       145.5  3609.5  \n",
       "3       145.5  1210.5  \n",
       "4       145.5  2029.5  \n",
       "...       ...     ...  \n",
       "641694  531.0    56.5  \n",
       "641695  531.0   885.5  \n",
       "641696  531.0  2244.0  \n",
       "641697  531.0    40.5  \n",
       "641698  531.0    32.0  \n",
       "\n",
       "[641699 rows x 10 columns]"
      ]
     },
     "execution_count": 198,
     "metadata": {},
     "output_type": "execute_result"
    }
   ],
   "source": [
    "df_data[:train_cols]"
   ]
  },
  {
   "cell_type": "markdown",
   "metadata": {},
   "source": [
    "## KNN based approach"
   ]
  },
  {
   "cell_type": "markdown",
   "metadata": {},
   "source": [
    "### Functions to find top-k similar users/movies using KNN"
   ]
  },
  {
   "cell_type": "code",
   "execution_count": 199,
   "metadata": {
    "ExecuteTime": {
     "end_time": "2020-10-30T20:56:49.968884Z",
     "start_time": "2020-10-30T20:56:49.957402Z"
    }
   },
   "outputs": [],
   "source": [
    "from scipy.sparse import csr_matrix\n",
    "from sklearn.neighbors import NearestNeighbors\n",
    "import multiprocessing\n",
    "from functools import partial\n",
    "\n",
    "def run_knn(df,primary,secondary):\n",
    "    r_df = df.pivot(index = primary, columns =secondary, values = 'rating').fillna(0)\n",
    "    csr_r = csr_matrix(r_df.values)\n",
    "    model_knn = NearestNeighbors(metric='cosine',algorithm ='auto')\n",
    "    model_knn.fit(csr_r)\n",
    "    return r_df, model_knn\n",
    "\n",
    "def sim_rating(name,i,df, r_df,id_to_x, sim_dict,primary,secondary):\n",
    "    namet =  name+str(i)\n",
    "    if name =='su':\n",
    "        df[namet]=df.apply(lambda row: r_df.loc[id_to_x[sim_dict[row[primary]][i]],\n",
    "                                                     row[secondary]] if row[secondary] in r_df.columns\n",
    "                                 else 0,axis=1)\n",
    "    else:\n",
    "        df[namet]=df.apply(lambda row: r_df.loc[id_to_x[sim_dict[row[primary]][i]],\n",
    "                                                     row[secondary]] if row[primary] in r_df.index\n",
    "                                 else 0,axis=1)        \n",
    "    print(\"{} done\".format(namet))\n",
    "    return df\n",
    "\n",
    "\n",
    "def attribute_based_rating(df,train_cols, primary, secondary, name,neighbors=50):\n",
    "    df_data = df[:train_cols]\n",
    "    r_df, model_knn = run_knn(df_data.copy(),primary,secondary)\n",
    "    sim_attr={}\n",
    "    id_to_attr = dict(zip(range(len(r_df)),r_df.index))\n",
    "    for i in r_df.index:\n",
    "        distances,indices = model_knn.kneighbors(r_df.loc[i,:].values.reshape(1,-1), neighbors)\n",
    "        sim_attr[i]=indices[0]\n",
    "\n",
    "    for i in range(1,neighbors):    \n",
    "        df_data = sim_rating(name,i,df, r_df,id_to_attr, sim_attr,primary,secondary)\n",
    "    return df_data, r_df"
   ]
  },
  {
   "cell_type": "code",
   "execution_count": 200,
   "metadata": {
    "ExecuteTime": {
     "end_time": "2020-10-30T21:14:00.013991Z",
     "start_time": "2020-10-30T20:56:54.500537Z"
    },
    "scrolled": true
   },
   "outputs": [
    {
     "name": "stdout",
     "output_type": "stream",
     "text": [
      "su1 done\n",
      "su2 done\n",
      "su3 done\n",
      "su4 done\n",
      "su5 done\n",
      "su6 done\n",
      "su7 done\n",
      "su8 done\n",
      "su9 done\n",
      "su10 done\n",
      "su11 done\n",
      "su12 done\n",
      "su13 done\n",
      "su14 done\n",
      "su15 done\n",
      "su16 done\n",
      "su17 done\n",
      "su18 done\n",
      "su19 done\n",
      "su20 done\n",
      "su21 done\n",
      "su22 done\n",
      "su23 done\n",
      "su24 done\n",
      "su25 done\n",
      "su26 done\n",
      "su27 done\n",
      "su28 done\n",
      "su29 done\n",
      "su30 done\n",
      "su31 done\n",
      "su32 done\n",
      "su33 done\n",
      "su34 done\n",
      "su35 done\n",
      "su36 done\n",
      "su37 done\n",
      "su38 done\n",
      "su39 done\n",
      "su40 done\n",
      "su41 done\n",
      "su42 done\n",
      "su43 done\n",
      "su44 done\n",
      "su45 done\n",
      "su46 done\n",
      "su47 done\n",
      "su48 done\n",
      "su49 done\n"
     ]
    }
   ],
   "source": [
    "##user-based similarity\n",
    "df_data, udf = attribute_based_rating(df_data.copy(),train_cols, 'userID', 'movieID','su')\n",
    "##movie-based similarity\n",
    "# df_data, rdf = attribute_based_rating(df_data.copy(),train_cols, 'movieID', 'userID','sm')\n",
    "# save_output(df_data, 'dataframe')"
   ]
  },
  {
   "cell_type": "markdown",
   "metadata": {},
   "source": [
    "### Save dataframe"
   ]
  },
  {
   "cell_type": "code",
   "execution_count": 202,
   "metadata": {
    "ExecuteTime": {
     "end_time": "2020-10-30T21:15:23.074575Z",
     "start_time": "2020-10-30T21:15:22.361190Z"
    }
   },
   "outputs": [],
   "source": [
    "save_output(df_data, 'dataframe','k-50')"
   ]
  },
  {
   "cell_type": "markdown",
   "metadata": {},
   "source": [
    "### Load dataframe"
   ]
  },
  {
   "cell_type": "code",
   "execution_count": 261,
   "metadata": {
    "ExecuteTime": {
     "end_time": "2020-10-31T00:14:30.500723Z",
     "start_time": "2020-10-31T00:14:30.112603Z"
    }
   },
   "outputs": [],
   "source": [
    "df_data = load_items('k-50')"
   ]
  },
  {
   "cell_type": "markdown",
   "metadata": {},
   "source": [
    "### User, movie and side information (tag, genre) based aggregated rating feature"
   ]
  },
  {
   "cell_type": "code",
   "execution_count": 262,
   "metadata": {
    "ExecuteTime": {
     "end_time": "2020-10-31T00:14:53.153797Z",
     "start_time": "2020-10-31T00:14:31.303550Z"
    }
   },
   "outputs": [],
   "source": [
    "df_data['uavg']=df_data['utot']/df_data['ucount']\n",
    "df_data['mavg']=df_data['mtot']/df_data['mcount']\n",
    "\n",
    "# df_data['genavg'] = df_data.groupby('genre')['rating'].transform('sum')/df_data.groupby(\n",
    "#     'genre')['rating'].transform('count')\n",
    "df_data['utagavg'] = df_data.groupby('utag')['rating'].transform('sum')/df_data.groupby(\n",
    "   'utag')['rating'].transform('count')\n",
    "df_data['mtagavg'] = df_data.groupby('mtag')['rating'].transform('sum')/df_data.groupby(\n",
    "    'mtag')['rating'].transform('count')\n",
    "df_data['utagavg']=df_data.apply(lambda row: row['uavg'] if pd.isna(row['utagavg']) else row['utagavg'],axis=1)\n",
    "df_data['mtagavg']=df_data.apply(lambda row: row['mavg'] if pd.isna(row['mtagavg']) else row['mtagavg'],axis=1)\n",
    "# save_output(df_data, 'dataframe')"
   ]
  },
  {
   "cell_type": "markdown",
   "metadata": {},
   "source": [
    "### Avg top-k (eg. 50) similar user rating column"
   ]
  },
  {
   "cell_type": "code",
   "execution_count": 263,
   "metadata": {
    "ExecuteTime": {
     "end_time": "2020-10-31T00:15:02.419869Z",
     "start_time": "2020-10-31T00:15:01.471041Z"
    }
   },
   "outputs": [],
   "source": [
    "df_data['sum-50']=df_data.iloc[:,10:].sum(axis=1)/50\n",
    "df_data = df_data.drop(columns = df_data.columns[10:59])"
   ]
  },
  {
   "cell_type": "code",
   "execution_count": 272,
   "metadata": {
    "ExecuteTime": {
     "end_time": "2020-10-31T00:34:34.067778Z",
     "start_time": "2020-10-31T00:34:34.049522Z"
    }
   },
   "outputs": [
    {
     "data": {
      "text/html": [
       "<div>\n",
       "<style scoped>\n",
       "    .dataframe tbody tr th:only-of-type {\n",
       "        vertical-align: middle;\n",
       "    }\n",
       "\n",
       "    .dataframe tbody tr th {\n",
       "        vertical-align: top;\n",
       "    }\n",
       "\n",
       "    .dataframe thead th {\n",
       "        text-align: right;\n",
       "    }\n",
       "</style>\n",
       "<table border=\"1\" class=\"dataframe\">\n",
       "  <thead>\n",
       "    <tr style=\"text-align: right;\">\n",
       "      <th></th>\n",
       "      <th>userID</th>\n",
       "      <th>movieID</th>\n",
       "      <th>rating</th>\n",
       "      <th>genre</th>\n",
       "      <th>mtag</th>\n",
       "      <th>utag</th>\n",
       "      <th>ucount</th>\n",
       "      <th>mcount</th>\n",
       "      <th>utot</th>\n",
       "      <th>mtot</th>\n",
       "      <th>uavg</th>\n",
       "      <th>mavg</th>\n",
       "      <th>utagavg</th>\n",
       "      <th>mtagavg</th>\n",
       "      <th>sum-50</th>\n",
       "    </tr>\n",
       "  </thead>\n",
       "  <tbody>\n",
       "    <tr>\n",
       "      <th>0</th>\n",
       "      <td>75</td>\n",
       "      <td>3</td>\n",
       "      <td>1.0</td>\n",
       "      <td>Romance</td>\n",
       "      <td>13668</td>\n",
       "      <td>13668</td>\n",
       "      <td>46</td>\n",
       "      <td>201</td>\n",
       "      <td>145.5</td>\n",
       "      <td>510.5</td>\n",
       "      <td>3.163043</td>\n",
       "      <td>2.539801</td>\n",
       "      <td>2.852273</td>\n",
       "      <td>2.851955</td>\n",
       "      <td>0.368141</td>\n",
       "    </tr>\n",
       "    <tr>\n",
       "      <th>1</th>\n",
       "      <td>75</td>\n",
       "      <td>32</td>\n",
       "      <td>4.5</td>\n",
       "      <td>Thriller</td>\n",
       "      <td>15912</td>\n",
       "      <td>15912</td>\n",
       "      <td>46</td>\n",
       "      <td>978</td>\n",
       "      <td>145.5</td>\n",
       "      <td>3551.5</td>\n",
       "      <td>3.163043</td>\n",
       "      <td>3.631391</td>\n",
       "      <td>3.970517</td>\n",
       "      <td>3.979054</td>\n",
       "      <td>3.414880</td>\n",
       "    </tr>\n",
       "    <tr>\n",
       "      <th>2</th>\n",
       "      <td>75</td>\n",
       "      <td>110</td>\n",
       "      <td>4.0</td>\n",
       "      <td>War</td>\n",
       "      <td>16309</td>\n",
       "      <td>16309</td>\n",
       "      <td>46</td>\n",
       "      <td>1047</td>\n",
       "      <td>145.5</td>\n",
       "      <td>3609.5</td>\n",
       "      <td>3.163043</td>\n",
       "      <td>3.447469</td>\n",
       "      <td>3.824447</td>\n",
       "      <td>3.837864</td>\n",
       "      <td>3.445456</td>\n",
       "    </tr>\n",
       "    <tr>\n",
       "      <th>3</th>\n",
       "      <td>75</td>\n",
       "      <td>163</td>\n",
       "      <td>4.0</td>\n",
       "      <td>Thriller</td>\n",
       "      <td>15870</td>\n",
       "      <td>15870</td>\n",
       "      <td>46</td>\n",
       "      <td>397</td>\n",
       "      <td>145.5</td>\n",
       "      <td>1210.5</td>\n",
       "      <td>3.163043</td>\n",
       "      <td>3.049118</td>\n",
       "      <td>3.193428</td>\n",
       "      <td>3.202416</td>\n",
       "      <td>1.562160</td>\n",
       "    </tr>\n",
       "    <tr>\n",
       "      <th>4</th>\n",
       "      <td>75</td>\n",
       "      <td>165</td>\n",
       "      <td>4.5</td>\n",
       "      <td>Thriller</td>\n",
       "      <td>14046</td>\n",
       "      <td>14046</td>\n",
       "      <td>46</td>\n",
       "      <td>668</td>\n",
       "      <td>145.5</td>\n",
       "      <td>2029.5</td>\n",
       "      <td>3.163043</td>\n",
       "      <td>3.038174</td>\n",
       "      <td>3.337345</td>\n",
       "      <td>3.341847</td>\n",
       "      <td>2.577608</td>\n",
       "    </tr>\n",
       "    <tr>\n",
       "      <th>...</th>\n",
       "      <td>...</td>\n",
       "      <td>...</td>\n",
       "      <td>...</td>\n",
       "      <td>...</td>\n",
       "      <td>...</td>\n",
       "      <td>...</td>\n",
       "      <td>...</td>\n",
       "      <td>...</td>\n",
       "      <td>...</td>\n",
       "      <td>...</td>\n",
       "      <td>...</td>\n",
       "      <td>...</td>\n",
       "      <td>...</td>\n",
       "      <td>...</td>\n",
       "      <td>...</td>\n",
       "    </tr>\n",
       "    <tr>\n",
       "      <th>71294</th>\n",
       "      <td>71534</td>\n",
       "      <td>2208</td>\n",
       "      <td>NaN</td>\n",
       "      <td>Thriller</td>\n",
       "      <td>7713</td>\n",
       "      <td>7713</td>\n",
       "      <td>142</td>\n",
       "      <td>57</td>\n",
       "      <td>531.0</td>\n",
       "      <td>198.0</td>\n",
       "      <td>3.739437</td>\n",
       "      <td>3.473684</td>\n",
       "      <td>3.269643</td>\n",
       "      <td>3.327138</td>\n",
       "      <td>0.446198</td>\n",
       "    </tr>\n",
       "    <tr>\n",
       "      <th>71295</th>\n",
       "      <td>71534</td>\n",
       "      <td>2997</td>\n",
       "      <td>NaN</td>\n",
       "      <td>Fantasy</td>\n",
       "      <td>11945</td>\n",
       "      <td>11945</td>\n",
       "      <td>142</td>\n",
       "      <td>864</td>\n",
       "      <td>531.0</td>\n",
       "      <td>3021.5</td>\n",
       "      <td>3.739437</td>\n",
       "      <td>3.497106</td>\n",
       "      <td>3.823755</td>\n",
       "      <td>3.835793</td>\n",
       "      <td>2.707922</td>\n",
       "    </tr>\n",
       "    <tr>\n",
       "      <th>71296</th>\n",
       "      <td>71534</td>\n",
       "      <td>4306</td>\n",
       "      <td>NaN</td>\n",
       "      <td>Romance</td>\n",
       "      <td>14562</td>\n",
       "      <td>14562</td>\n",
       "      <td>142</td>\n",
       "      <td>1178</td>\n",
       "      <td>531.0</td>\n",
       "      <td>4064.5</td>\n",
       "      <td>3.739437</td>\n",
       "      <td>3.450340</td>\n",
       "      <td>3.594996</td>\n",
       "      <td>3.601115</td>\n",
       "      <td>2.107718</td>\n",
       "    </tr>\n",
       "    <tr>\n",
       "      <th>71297</th>\n",
       "      <td>71534</td>\n",
       "      <td>7132</td>\n",
       "      <td>NaN</td>\n",
       "      <td>Romance</td>\n",
       "      <td>7867</td>\n",
       "      <td>7867</td>\n",
       "      <td>142</td>\n",
       "      <td>92</td>\n",
       "      <td>531.0</td>\n",
       "      <td>336.5</td>\n",
       "      <td>3.739437</td>\n",
       "      <td>3.657609</td>\n",
       "      <td>3.960739</td>\n",
       "      <td>3.960046</td>\n",
       "      <td>0.576357</td>\n",
       "    </tr>\n",
       "    <tr>\n",
       "      <th>71298</th>\n",
       "      <td>71534</td>\n",
       "      <td>35836</td>\n",
       "      <td>NaN</td>\n",
       "      <td>Romance</td>\n",
       "      <td>14125</td>\n",
       "      <td>14125</td>\n",
       "      <td>142</td>\n",
       "      <td>566</td>\n",
       "      <td>531.0</td>\n",
       "      <td>1866.0</td>\n",
       "      <td>3.739437</td>\n",
       "      <td>3.296820</td>\n",
       "      <td>3.666122</td>\n",
       "      <td>3.674523</td>\n",
       "      <td>1.317538</td>\n",
       "    </tr>\n",
       "  </tbody>\n",
       "</table>\n",
       "<p>712998 rows × 15 columns</p>\n",
       "</div>"
      ],
      "text/plain": [
       "       userID  movieID  rating     genre   mtag   utag  ucount  mcount   utot  \\\n",
       "0          75        3     1.0   Romance  13668  13668      46     201  145.5   \n",
       "1          75       32     4.5  Thriller  15912  15912      46     978  145.5   \n",
       "2          75      110     4.0       War  16309  16309      46    1047  145.5   \n",
       "3          75      163     4.0  Thriller  15870  15870      46     397  145.5   \n",
       "4          75      165     4.5  Thriller  14046  14046      46     668  145.5   \n",
       "...       ...      ...     ...       ...    ...    ...     ...     ...    ...   \n",
       "71294   71534     2208     NaN  Thriller   7713   7713     142      57  531.0   \n",
       "71295   71534     2997     NaN   Fantasy  11945  11945     142     864  531.0   \n",
       "71296   71534     4306     NaN   Romance  14562  14562     142    1178  531.0   \n",
       "71297   71534     7132     NaN   Romance   7867   7867     142      92  531.0   \n",
       "71298   71534    35836     NaN   Romance  14125  14125     142     566  531.0   \n",
       "\n",
       "         mtot      uavg      mavg   utagavg   mtagavg    sum-50  \n",
       "0       510.5  3.163043  2.539801  2.852273  2.851955  0.368141  \n",
       "1      3551.5  3.163043  3.631391  3.970517  3.979054  3.414880  \n",
       "2      3609.5  3.163043  3.447469  3.824447  3.837864  3.445456  \n",
       "3      1210.5  3.163043  3.049118  3.193428  3.202416  1.562160  \n",
       "4      2029.5  3.163043  3.038174  3.337345  3.341847  2.577608  \n",
       "...       ...       ...       ...       ...       ...       ...  \n",
       "71294   198.0  3.739437  3.473684  3.269643  3.327138  0.446198  \n",
       "71295  3021.5  3.739437  3.497106  3.823755  3.835793  2.707922  \n",
       "71296  4064.5  3.739437  3.450340  3.594996  3.601115  2.107718  \n",
       "71297   336.5  3.739437  3.657609  3.960739  3.960046  0.576357  \n",
       "71298  1866.0  3.739437  3.296820  3.666122  3.674523  1.317538  \n",
       "\n",
       "[712998 rows x 15 columns]"
      ]
     },
     "execution_count": 272,
     "metadata": {},
     "output_type": "execute_result"
    }
   ],
   "source": [
    "df_data"
   ]
  },
  {
   "cell_type": "markdown",
   "metadata": {},
   "source": [
    "### train-test data"
   ]
  },
  {
   "cell_type": "code",
   "execution_count": 265,
   "metadata": {
    "ExecuteTime": {
     "end_time": "2020-10-31T00:15:30.705401Z",
     "start_time": "2020-10-31T00:15:30.660974Z"
    }
   },
   "outputs": [],
   "source": [
    "train_df = df_data[:train_cols].copy()\n",
    "test_df = df_data[train_cols:].copy()"
   ]
  },
  {
   "cell_type": "markdown",
   "metadata": {},
   "source": [
    "### K nearest Regressor based prediction"
   ]
  },
  {
   "cell_type": "code",
   "execution_count": 280,
   "metadata": {
    "ExecuteTime": {
     "end_time": "2020-10-31T00:41:27.413825Z",
     "start_time": "2020-10-31T00:41:21.841513Z"
    }
   },
   "outputs": [],
   "source": [
    "from sklearn.neighbors import KNeighborsRegressor\n",
    "X = train_df.iloc[:,10:].values\n",
    "y = train_df['rating'].values\n",
    "neigh = KNeighborsRegressor(n_neighbors=50)\n",
    "neigh.fit(X, y)\n",
    "pred = neigh.predict(test_df.iloc[:,10:].values)"
   ]
  },
  {
   "cell_type": "code",
   "execution_count": 281,
   "metadata": {
    "ExecuteTime": {
     "end_time": "2020-10-31T00:41:28.493229Z",
     "start_time": "2020-10-31T00:41:28.489178Z"
    }
   },
   "outputs": [
    {
     "data": {
      "text/plain": [
       "array([3.23, 3.74, 3.08, ..., 4.35, 4.44, 4.19])"
      ]
     },
     "execution_count": 281,
     "metadata": {},
     "output_type": "execute_result"
    }
   ],
   "source": [
    "pred"
   ]
  },
  {
   "cell_type": "markdown",
   "metadata": {},
   "source": [
    "### Save output"
   ]
  },
  {
   "cell_type": "code",
   "execution_count": 282,
   "metadata": {
    "ExecuteTime": {
     "end_time": "2020-10-31T00:41:29.298804Z",
     "start_time": "2020-10-31T00:41:29.251643Z"
    }
   },
   "outputs": [],
   "source": [
    "save_output(pred, 'output','output-k(10)-regressor')"
   ]
  },
  {
   "cell_type": "markdown",
   "metadata": {},
   "source": [
    "### Feaature - rating correlation"
   ]
  },
  {
   "cell_type": "code",
   "execution_count": 266,
   "metadata": {
    "ExecuteTime": {
     "end_time": "2020-10-31T00:15:33.771724Z",
     "start_time": "2020-10-31T00:15:33.676522Z"
    }
   },
   "outputs": [
    {
     "name": "stdout",
     "output_type": "stream",
     "text": [
      "4 mtag 0.19837299551164753\n",
      "5 utag 0.176397900659125\n",
      "6 ucount -0.10250593420650579\n",
      "7 mcount 0.18063436804712685\n",
      "8 utot -0.044094588089830744\n",
      "9 mtot 0.22228566733598384\n",
      "10 uavg 0.38789782663956357\n",
      "11 mavg 0.48661838143163166\n",
      "12 utagavg 0.4178795403777499\n",
      "13 mtagavg 0.41074522451791895\n",
      "14 sum-50 0.28407886874928134\n"
     ]
    }
   ],
   "source": [
    "for i,c in enumerate(train_df.columns[4:]):\n",
    "    print(4+i,c,train_df[c].corr(train_df['rating']))"
   ]
  },
  {
   "cell_type": "markdown",
   "metadata": {},
   "source": [
    "## SVD based Approach"
   ]
  },
  {
   "cell_type": "code",
   "execution_count": 119,
   "metadata": {
    "ExecuteTime": {
     "end_time": "2020-10-30T20:28:29.917957Z",
     "start_time": "2020-10-30T20:28:29.913178Z"
    }
   },
   "outputs": [],
   "source": [
    "def create_matrix(df_data,value):\n",
    "    r_df = df_data.pivot(index = 'userID', columns ='movieID', values = value).fillna(0)\n",
    "    users = list(r_df.index)\n",
    "    users_index = {users[i]: i for i in range(len(users))}\n",
    "    movies = list(r_df.columns)\n",
    "    movies_index = {movies[i]: i for i in range(len(movies))}\n",
    "    return r_df, users_index, movies_index"
   ]
  },
  {
   "cell_type": "code",
   "execution_count": 120,
   "metadata": {
    "ExecuteTime": {
     "end_time": "2020-10-30T20:28:31.173997Z",
     "start_time": "2020-10-30T20:28:31.168205Z"
    }
   },
   "outputs": [],
   "source": [
    "from scipy.sparse.linalg import svds\n",
    "from scipy.linalg import sqrtm\n",
    "\n",
    "def svd(train, k):\n",
    "    r_mat = train.values\n",
    "    user_ratings_mean = np.mean(r_mat, axis = 1)\n",
    "    r_norm = r_mat - user_ratings_mean.reshape(-1, 1)\n",
    "    \n",
    "    U, s, V = svds(r_norm, k)\n",
    "    s = np.diag(s)\n",
    "\n",
    "    # we take only the k most significant features\n",
    "    s=s[0:k,0:k]\n",
    "    U=U[:,0:k]\n",
    "    V=V[0:k,:]\n",
    "    s_root=sqrtm(s)\n",
    "    Usk=np.dot(U,s_root)\n",
    "    skV=np.dot(s_root,V)\n",
    "    UsV = np.dot(Usk, skV)\n",
    "    UsV = UsV + user_ratings_mean.reshape(-1, 1)\n",
    "    print(\"svd done\")\n",
    "    return UsV"
   ]
  },
  {
   "cell_type": "code",
   "execution_count": 121,
   "metadata": {
    "ExecuteTime": {
     "end_time": "2020-10-30T20:28:32.338876Z",
     "start_time": "2020-10-30T20:28:32.335939Z"
    }
   },
   "outputs": [],
   "source": [
    "def rmse(true, pred):\n",
    "    # this will be used towards the end\n",
    "    x = true - pred\n",
    "    return sum([xi*xi for xi in x])/len(x)"
   ]
  },
  {
   "cell_type": "code",
   "execution_count": 189,
   "metadata": {
    "ExecuteTime": {
     "end_time": "2020-10-30T20:51:09.140623Z",
     "start_time": "2020-10-30T20:50:59.831550Z"
    }
   },
   "outputs": [
    {
     "name": "stdout",
     "output_type": "stream",
     "text": [
      "svd done\n"
     ]
    }
   ],
   "source": [
    "# df_data = pd.concat([df_train,df_test])\n",
    "# to test the performance over a different number of features\n",
    "\n",
    "no_of_features = [50]\n",
    "utilMat, users_index, items_index = create_matrix(df_data.copy(),'mfeat')\n",
    "for f in no_of_features: \n",
    "    svdout = svd(utilMat, k=f)\n",
    "    pred = [] #to store the predicted ratings\n",
    "    for _,row in df_test.iterrows():\n",
    "        user = row['userID']\n",
    "        item = row['movieID']\n",
    "        u_index = users_index[user]\n",
    "        if item in items_index:\n",
    "            i_index = items_index[item]\n",
    "            pred_rating = svdout[u_index, i_index]\n",
    "        else:\n",
    "            pred_rating = np.mean(svdout[u_index, :])\n",
    "        pred.append(pred_rating)\n",
    "\n",
    "# print(rmse(df_test['rating'], pred))"
   ]
  },
  {
   "cell_type": "code",
   "execution_count": 190,
   "metadata": {
    "ExecuteTime": {
     "end_time": "2020-10-30T20:51:09.190687Z",
     "start_time": "2020-10-30T20:51:09.142869Z"
    }
   },
   "outputs": [],
   "source": [
    "save_output(pred, 'output')"
   ]
  },
  {
   "cell_type": "code",
   "execution_count": null,
   "metadata": {},
   "outputs": [],
   "source": []
  }
 ],
 "metadata": {
  "kernelspec": {
   "display_name": "Python 3",
   "language": "python",
   "name": "python3"
  },
  "language_info": {
   "codemirror_mode": {
    "name": "ipython",
    "version": 3
   },
   "file_extension": ".py",
   "mimetype": "text/x-python",
   "name": "python",
   "nbconvert_exporter": "python",
   "pygments_lexer": "ipython3",
   "version": "3.7.6"
  }
 },
 "nbformat": 4,
 "nbformat_minor": 4
}

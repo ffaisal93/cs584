{
 "cells": [
  {
   "cell_type": "code",
   "execution_count": 1,
   "metadata": {},
   "outputs": [],
   "source": [
    "import os\n",
    "import pandas as pd\n",
    "import re\n",
    "from bs4 import BeautifulSoup\n",
    "from nltk.corpus import stopwords\n",
    "from nltk.stem import WordNetLemmatizer\n",
    "from sklearn.feature_extraction.text import TfidfVectorizer\n",
    "from sklearn.feature_selection import VarianceThreshold\n",
    "from sklearn.model_selection import train_test_split\n",
    "import spacy\n",
    "import pickle\n",
    "import numpy as np\n",
    "from scipy import sparse\n",
    "from sklearn.preprocessing import MinMaxScaler\n",
    "from sklearn.model_selection import KFold\n",
    "from sklearn.metrics import classification_report, confusion_matrix,accuracy_score\n",
    "from sklearn.metrics import accuracy_score, roc_auc_score, roc_curve\n",
    "%reload_ext autoreload\n",
    "%autoreload 2"
   ]
  },
  {
   "cell_type": "code",
   "execution_count": 2,
   "metadata": {},
   "outputs": [],
   "source": [
    "path = '../hw1/data'\n",
    "TRAINFILE = '1598639150_466036_train_file.txt'\n",
    "TESTFILE = '1598639150_4984343_test_file.txt'"
   ]
  },
  {
   "cell_type": "markdown",
   "metadata": {},
   "source": [
    "## Load data into dataframe"
   ]
  },
  {
   "cell_type": "code",
   "execution_count": 3,
   "metadata": {},
   "outputs": [],
   "source": [
    "train_df = pd.read_csv(os.path.join(path, TRAINFILE), sep=\"\\t\", header=0)\n",
    "test_df = pd.read_fwf(os.path.join(path, TESTFILE), header=None)\n",
    "test_df = test_df.dropna(axis='columns')\n",
    "test_df.columns = ['review']"
   ]
  },
  {
   "cell_type": "code",
   "execution_count": 4,
   "metadata": {},
   "outputs": [
    {
     "data": {
      "text/html": [
       "<div>\n",
       "<style scoped>\n",
       "    .dataframe tbody tr th:only-of-type {\n",
       "        vertical-align: middle;\n",
       "    }\n",
       "\n",
       "    .dataframe tbody tr th {\n",
       "        vertical-align: top;\n",
       "    }\n",
       "\n",
       "    .dataframe thead th {\n",
       "        text-align: right;\n",
       "    }\n",
       "</style>\n",
       "<table border=\"1\" class=\"dataframe\">\n",
       "  <thead>\n",
       "    <tr style=\"text-align: right;\">\n",
       "      <th></th>\n",
       "      <th>sentiment</th>\n",
       "      <th>review</th>\n",
       "    </tr>\n",
       "  </thead>\n",
       "  <tbody>\n",
       "    <tr>\n",
       "      <th>0</th>\n",
       "      <td>1</td>\n",
       "      <td>One of the other reviewers has mentioned that ...</td>\n",
       "    </tr>\n",
       "    <tr>\n",
       "      <th>1</th>\n",
       "      <td>1</td>\n",
       "      <td>A wonderful little production. &lt;br /&gt;&lt;br /&gt;The...</td>\n",
       "    </tr>\n",
       "    <tr>\n",
       "      <th>2</th>\n",
       "      <td>1</td>\n",
       "      <td>I thought this was a wonderful way to spend ti...</td>\n",
       "    </tr>\n",
       "    <tr>\n",
       "      <th>3</th>\n",
       "      <td>-1</td>\n",
       "      <td>Basically there's a family where a little boy ...</td>\n",
       "    </tr>\n",
       "    <tr>\n",
       "      <th>4</th>\n",
       "      <td>1</td>\n",
       "      <td>Petter Mattei's \"Love in the Time of Money\" is...</td>\n",
       "    </tr>\n",
       "  </tbody>\n",
       "</table>\n",
       "</div>"
      ],
      "text/plain": [
       "   sentiment                                             review\n",
       "0          1  One of the other reviewers has mentioned that ...\n",
       "1          1  A wonderful little production. <br /><br />The...\n",
       "2          1  I thought this was a wonderful way to spend ti...\n",
       "3         -1  Basically there's a family where a little boy ...\n",
       "4          1  Petter Mattei's \"Love in the Time of Money\" is..."
      ]
     },
     "execution_count": 4,
     "metadata": {},
     "output_type": "execute_result"
    }
   ],
   "source": [
    "train_df.head()"
   ]
  },
  {
   "cell_type": "markdown",
   "metadata": {},
   "source": [
    "## Text preprocessing function"
   ]
  },
  {
   "cell_type": "code",
   "execution_count": 5,
   "metadata": {},
   "outputs": [],
   "source": [
    "from afinn import Afinn\n",
    "nlp = spacy.load('en_core_web_sm', disable=['parser', 'ner'])\n",
    "from nltk.stem.snowball import SnowballStemmer\n",
    "stemmer = SnowballStemmer(language='english')\n",
    "\n",
    "def preProcess(rawReview, features):\n",
    "    \n",
    "    #Html tag\n",
    "    text_only = BeautifulSoup(rawReview).get_text()\n",
    "    #\n",
    "    #Emain and Url\n",
    "    noEmail = re.sub(r'([\\w\\.-]+@[\\w\\.-]+\\.\\w+)','',text_only)\n",
    "    \n",
    "    noUrl = re.sub(r'(?i)\\b((?:[a-z][\\w-]+:(?:/{1,3}|[a-z0-9%])|www\\d{0,3}[.]| \\\n",
    "        [a-z0-9.\\-]+[.][a-z]{2,4}/|[a-z0-9.\\-]+[.][a-z])(?:[^\\s()<>]+|\\(([^\\s()<>]+| \\\n",
    "        (\\([^\\s()<>]+\\)))*\\))+(?:\\(([^\\s()<>]+|(\\([^\\s()<>]+\\)))*\\)|[^\\s`!()\\[\\]{};:\\'\".,<>?«»“”‘’]))','', noEmail)\n",
    "    \n",
    "    #Emoticons\n",
    "    smileys = \"\"\":-) :) :o) :D :-D :( :-( :o(\"\"\".split()\n",
    "    smileyPattern = \"|\".join(map(re.escape, smileys))\n",
    "    \n",
    "    letters_only = re.sub(\"[^a-zA-Z\" + smileyPattern + \"]\", \" \", noUrl)\n",
    "\n",
    "    words = letters_only.lower().split()     \n",
    "    \n",
    "    doc = nlp(\" \".join(words))\n",
    "    tags=['NOUN', 'ADJ']\n",
    "    for feature in features:\n",
    "        if feature == \"lemma\": \n",
    "            words = [token.lemma_ for token in doc if token.pos_ in tags and \n",
    "                     token.is_stop is False and len(token)>1]\n",
    "        if feature ==\"stem\":\n",
    "            words = [stemmer.stem(token) for token in words]\n",
    "        \n",
    "        if feature ==\"sentiment\":\n",
    "            af = Afinn()\n",
    "            words = ['neut' if af.score(token)==0 else token for token in words]\n",
    "                \n",
    "                \n",
    "    words = \" \".join(words)\n",
    "    return words\n"
   ]
  },
  {
   "cell_type": "markdown",
   "metadata": {},
   "source": [
    "## Function to calculate tf-dif metrices"
   ]
  },
  {
   "cell_type": "code",
   "execution_count": 29,
   "metadata": {},
   "outputs": [],
   "source": [
    "def createTFIDFMatrices(train_data, test_data, feature =  dict(), use_feature=False):\n",
    "    if use_feature == True:\n",
    "        vectorizer = TfidfVectorizer(norm = 'l2',min_df = 0, use_idf = feature['use_idf'], \n",
    "                                     smooth_idf = feature['smooth_idf'], \n",
    "                                     sublinear_tf = True, \\\n",
    "                                 ngram_range=feature['ngram_range'], max_features = feature['max_f'])\n",
    "    else:\n",
    "        vectorizer = TfidfVectorizer(norm = 'l2') \n",
    "    train_matrix = vectorizer.fit_transform(train_data)\n",
    "    test_matrix = vectorizer.transform(test_data)\n",
    "\n",
    "    return train_matrix, test_matrix"
   ]
  },
  {
   "cell_type": "markdown",
   "metadata": {},
   "source": [
    "## KNN class"
   ]
  },
  {
   "cell_type": "code",
   "execution_count": 7,
   "metadata": {},
   "outputs": [],
   "source": [
    "class KNN:\n",
    "    train_X=0\n",
    "    train_y=0\n",
    "    test_X=0\n",
    "    test_y = 0\n",
    "    \n",
    "    def __init__(self, k, dist,select):\n",
    "        self.neighbour = k\n",
    "        self.distance = dist\n",
    "        self.selection = select\n",
    "        print(\"# of neighbours: {}, distance: {}, selection_method: {}\".format(self.neighbour, \n",
    "                                                                             self.distance, \n",
    "                                                                             self.selection))\n",
    "\n",
    "    def fit(self, X,y):\n",
    "        KNN.train_X = X\n",
    "        KNN.train_y = y\n",
    "        \n",
    "    def findDistances(self): \n",
    "        if self.distance == 'cosine':\n",
    "            cosineSimilarities = np.dot(KNN.test_X, np.transpose(KNN.train_X))\n",
    "            similarities = cosineSimilarities.toarray()\n",
    "        return similarities\n",
    "    \n",
    "    def predict(self, X):\n",
    "        KNN.test_X = X\n",
    "        KNN.test_y = list()\n",
    "        similarities =  self.findDistances()\n",
    "        for similarity in similarities:\n",
    "            pos = 0\n",
    "            neg = 0\n",
    "            k_neighbours = np.argsort(-similarity)[:self.neighbour]\n",
    "            for neigh in k_neighbours:\n",
    "                if self.selection =='majority_voting':\n",
    "                    if int(KNN.train_y[neigh]) == 1:\n",
    "                        pos += 1\n",
    "                    else:\n",
    "                        neg += 1\n",
    "            if pos>neg:\n",
    "                KNN.test_y.append(1)\n",
    "            else:\n",
    "                KNN.test_y.append(-1)\n",
    "        return np.array(KNN.test_y)"
   ]
  },
  {
   "cell_type": "markdown",
   "metadata": {},
   "source": [
    "## Evaluation reprot function"
   ]
  },
  {
   "cell_type": "code",
   "execution_count": 8,
   "metadata": {},
   "outputs": [],
   "source": [
    "def evaluation(y_test, y_pred, target_names, title, print_flag):\n",
    "    acc = accuracy_score(y_test,y_pred)\n",
    "    if print_flag!='print_off':\n",
    "        print(title)\n",
    "        print('Accuracy: ',acc)\n",
    "        print(classification_report(y_test,y_pred, target_names=target_names))\n",
    "    return acc"
   ]
  },
  {
   "cell_type": "markdown",
   "metadata": {},
   "source": [
    "## Save and load data utility functions"
   ]
  },
  {
   "cell_type": "code",
   "execution_count": 9,
   "metadata": {},
   "outputs": [],
   "source": [
    "def save_output(items, item):\n",
    "    if item ==\"output\":\n",
    "        output = open(os.path.join(path,'output-k-300.txt'), 'w')\n",
    "        output.writelines( \"%s\\n\" % item for item in items )\n",
    "        output.close()\n",
    "    if item ==\"dataframe_save\":\n",
    "        with open(os.path.join(path, \"train_df.pickle\"),'wb') as trf:\n",
    "            pickle.dump(items[0], trf)\n",
    "        with open(os.path.join(path, \"test_df.pickle\"),'wb') as tef:\n",
    "            pickle.dump(items[1], tef)\n",
    "\n",
    "def load_items():\n",
    "    with open(os.path.join(path, \"train_df.pickle\"),'rb') as trf:\n",
    "        train_df = pickle.load(trf)\n",
    "    with open(os.path.join(path, \"test_df.pickle\"),'rb') as tef:\n",
    "        test_df = pickle.load(tef)\n",
    "    return train_df, test_df"
   ]
  },
  {
   "cell_type": "markdown",
   "metadata": {},
   "source": [
    "## Preprocess text and save in dataframe"
   ]
  },
  {
   "cell_type": "code",
   "execution_count": 48,
   "metadata": {},
   "outputs": [],
   "source": [
    "features = ['lemma','stem']\n",
    "train_df['preprocessed'] = train_df.apply(lambda row: preProcess(row['review'],features),axis=1) \n",
    "test_df['preprocessed'] = test_df.apply(lambda row: preProcess(row['review'],features),axis=1)\n",
    "save_output([train_df, test_df], 'dataframe_save')"
   ]
  },
  {
   "cell_type": "code",
   "execution_count": 10,
   "metadata": {},
   "outputs": [
    {
     "data": {
      "text/html": [
       "<div>\n",
       "<style scoped>\n",
       "    .dataframe tbody tr th:only-of-type {\n",
       "        vertical-align: middle;\n",
       "    }\n",
       "\n",
       "    .dataframe tbody tr th {\n",
       "        vertical-align: top;\n",
       "    }\n",
       "\n",
       "    .dataframe thead th {\n",
       "        text-align: right;\n",
       "    }\n",
       "</style>\n",
       "<table border=\"1\" class=\"dataframe\">\n",
       "  <thead>\n",
       "    <tr style=\"text-align: right;\">\n",
       "      <th></th>\n",
       "      <th>sentiment</th>\n",
       "      <th>review</th>\n",
       "      <th>preprocessed</th>\n",
       "    </tr>\n",
       "  </thead>\n",
       "  <tbody>\n",
       "    <tr>\n",
       "      <th>0</th>\n",
       "      <td>1</td>\n",
       "      <td>One of the other reviewers has mentioned that ...</td>\n",
       "      <td>review episod right thing brutal scene violenc...</td>\n",
       "    </tr>\n",
       "    <tr>\n",
       "      <th>1</th>\n",
       "      <td>1</td>\n",
       "      <td>A wonderful little production. &lt;br /&gt;&lt;br /&gt;The...</td>\n",
       "      <td>wonder littl product film techniqu unassuming-...</td>\n",
       "    </tr>\n",
       "    <tr>\n",
       "      <th>2</th>\n",
       "      <td>1</td>\n",
       "      <td>I thought this was a wonderful way to spend ti...</td>\n",
       "      <td>wonder way time hot summer weekend air theater...</td>\n",
       "    </tr>\n",
       "    <tr>\n",
       "      <th>3</th>\n",
       "      <td>-1</td>\n",
       "      <td>Basically there's a family where a little boy ...</td>\n",
       "      <td>famili littl boy jake zombi closet parent movi...</td>\n",
       "    </tr>\n",
       "    <tr>\n",
       "      <th>4</th>\n",
       "      <td>1</td>\n",
       "      <td>Petter Mattei's \"Love in the Time of Money\" is...</td>\n",
       "      <td>love time money stun film vivid portrait human...</td>\n",
       "    </tr>\n",
       "  </tbody>\n",
       "</table>\n",
       "</div>"
      ],
      "text/plain": [
       "   sentiment                                             review  \\\n",
       "0          1  One of the other reviewers has mentioned that ...   \n",
       "1          1  A wonderful little production. <br /><br />The...   \n",
       "2          1  I thought this was a wonderful way to spend ti...   \n",
       "3         -1  Basically there's a family where a little boy ...   \n",
       "4          1  Petter Mattei's \"Love in the Time of Money\" is...   \n",
       "\n",
       "                                        preprocessed  \n",
       "0  review episod right thing brutal scene violenc...  \n",
       "1  wonder littl product film techniqu unassuming-...  \n",
       "2  wonder way time hot summer weekend air theater...  \n",
       "3  famili littl boy jake zombi closet parent movi...  \n",
       "4  love time money stun film vivid portrait human...  "
      ]
     },
     "execution_count": 10,
     "metadata": {},
     "output_type": "execute_result"
    }
   ],
   "source": [
    "train_df, test_df = load_items()\n",
    "train_df.head(5)"
   ]
  },
  {
   "cell_type": "markdown",
   "metadata": {},
   "source": [
    "## Finding optimal k value using 5-fold cross validation"
   ]
  },
  {
   "cell_type": "code",
   "execution_count": 22,
   "metadata": {},
   "outputs": [
    {
     "name": "stdout",
     "output_type": "stream",
     "text": [
      "# of neighbours: 50, distance: cosine, selection_method: majority_voting\n",
      "Average accuracy: 0.7769847282427476\n",
      "\n",
      "# of neighbours: 100, distance: cosine, selection_method: majority_voting\n",
      "Average accuracy: 0.7941184617094587\n",
      "\n",
      "# of neighbours: 150, distance: cosine, selection_method: majority_voting\n",
      "Average accuracy: 0.8013197287984883\n",
      "\n",
      "# of neighbours: 200, distance: cosine, selection_method: majority_voting\n",
      "Average accuracy: 0.8032538846282093\n",
      "\n",
      "# of neighbours: 250, distance: cosine, selection_method: majority_voting\n",
      "Average accuracy: 0.8051869067466934\n",
      "\n",
      "# of neighbours: 300, distance: cosine, selection_method: majority_voting\n",
      "Average accuracy: 0.8079207069023008\n",
      "\n",
      "# of neighbours: 350, distance: cosine, selection_method: majority_voting\n",
      "Average accuracy: 0.8051198177170168\n",
      "\n",
      "# of neighbours: 400, distance: cosine, selection_method: majority_voting\n",
      "Average accuracy: 0.8089218183839059\n",
      "\n",
      "# of neighbours: 450, distance: cosine, selection_method: majority_voting\n",
      "Average accuracy: 0.8065862843169945\n",
      "\n",
      "Optimal neighbour count: 400, max_accuracy achieved: 0.8089218183839059\n"
     ]
    }
   ],
   "source": [
    "max_acc =0\n",
    "k_acc = {}\n",
    "for neigh in range(50,500,50):\n",
    "    knn = KNN(neigh,'cosine','majority_voting')\n",
    "\n",
    "    split = 5\n",
    "    kf = KFold(n_splits=split, shuffle= True)\n",
    "    acc_avg = 0\n",
    "    acc = 0\n",
    "    for train_index, test_index in kf.split(train_df):\n",
    "        X_train, X_test = createTFIDFMatrices(train_df.loc[train_index,'preprocessed'], \n",
    "                                             train_df.loc[test_index,'preprocessed'])\n",
    "        y = train_df['sentiment'].values\n",
    "        y_train, y_test = y[train_index], y[test_index]\n",
    "# #         print(\"train shape:{}, test shape:{}\".format(X_train.shape, X_test.shape))\n",
    "        knn.fit(X_train, y_train)\n",
    "        y_pred = knn.predict(X_test)\n",
    "        acc += evaluation(y_test, y_pred,['-1','1'], 'Classification report (knn):', 'print_off')\n",
    "\n",
    "    acc_avg = acc/split\n",
    "    if acc_avg > max_acc:\n",
    "        max_acc = acc_avg\n",
    "        optimal_neighbour = neigh\n",
    "    k_acc[neigh]=acc_avg\n",
    "    print('Average accuracy: {}'.format(acc_avg), end='\\n\\n')\n",
    "\n",
    "print(\"Optimal neighbour count: {}, max_accuracy achieved: {}\".format(optimal_neighbour, max_acc))    "
   ]
  },
  {
   "cell_type": "markdown",
   "metadata": {},
   "source": [
    "## Ploting K vs Average accuracy"
   ]
  },
  {
   "cell_type": "code",
   "execution_count": 37,
   "metadata": {},
   "outputs": [
    {
     "data": {
      "image/png": "[encoded data removed]",
      "text/plain": [
       "<Figure size 576x432 with 1 Axes>"
      ]
     },
     "metadata": {
      "needs_background": "light"
     },
     "output_type": "display_data"
    }
   ],
   "source": [
    "import matplotlib.pyplot as plt\n",
    "plt.figure(figsize=(8,6))\n",
    "plt.plot(list(k_acc.keys()),list(k_acc.values()))\n",
    "plt.xlabel(\"# of neighbours (k)\")\n",
    "plt.ylabel(\"Avg. Accuracy (5-fold validation)\")\n",
    "plt.tight_layout()\n",
    "plt.savefig(\"knn.pdf\")"
   ]
  },
  {
   "cell_type": "markdown",
   "metadata": {},
   "source": [
    "## Finding optimal tf idf parameters on previously found best K value"
   ]
  },
  {
   "cell_type": "code",
   "execution_count": 31,
   "metadata": {
    "scrolled": false
   },
   "outputs": [
    {
     "name": "stdout",
     "output_type": "stream",
     "text": [
      "# of neighbours: 400, distance: cosine, selection_method: majority_voting\n",
      "{'max_f': 5000, 'use_idf': True, 'smooth_idf': True, 'ngram_range': (1, 1)} 0.8284444444444444\n",
      "# of neighbours: 400, distance: cosine, selection_method: majority_voting\n",
      "{'max_f': 5000, 'use_idf': True, 'smooth_idf': True, 'ngram_range': (1, 2)} 0.8251111111111111\n",
      "# of neighbours: 400, distance: cosine, selection_method: majority_voting\n",
      "{'max_f': 5000, 'use_idf': True, 'smooth_idf': True, 'ngram_range': (2, 2)} 0.7228888888888889\n",
      "# of neighbours: 400, distance: cosine, selection_method: majority_voting\n",
      "{'max_f': 5000, 'use_idf': True, 'smooth_idf': False, 'ngram_range': (1, 1)} 0.8282222222222222\n",
      "# of neighbours: 400, distance: cosine, selection_method: majority_voting\n",
      "{'max_f': 5000, 'use_idf': True, 'smooth_idf': False, 'ngram_range': (1, 2)} 0.8242222222222222\n",
      "# of neighbours: 400, distance: cosine, selection_method: majority_voting\n",
      "{'max_f': 5000, 'use_idf': True, 'smooth_idf': False, 'ngram_range': (2, 2)} 0.7244444444444444\n",
      "# of neighbours: 400, distance: cosine, selection_method: majority_voting\n",
      "{'max_f': 5000, 'use_idf': False, 'smooth_idf': True, 'ngram_range': (1, 1)} 0.7842222222222223\n",
      "# of neighbours: 400, distance: cosine, selection_method: majority_voting\n",
      "{'max_f': 5000, 'use_idf': False, 'smooth_idf': True, 'ngram_range': (1, 2)} 0.786\n",
      "# of neighbours: 400, distance: cosine, selection_method: majority_voting\n",
      "{'max_f': 5000, 'use_idf': False, 'smooth_idf': True, 'ngram_range': (2, 2)} 0.704\n",
      "# of neighbours: 400, distance: cosine, selection_method: majority_voting\n",
      "{'max_f': 5000, 'use_idf': False, 'smooth_idf': False, 'ngram_range': (1, 1)} 0.7842222222222223\n",
      "# of neighbours: 400, distance: cosine, selection_method: majority_voting\n",
      "{'max_f': 5000, 'use_idf': False, 'smooth_idf': False, 'ngram_range': (1, 2)} 0.786\n",
      "# of neighbours: 400, distance: cosine, selection_method: majority_voting\n",
      "{'max_f': 5000, 'use_idf': False, 'smooth_idf': False, 'ngram_range': (2, 2)} 0.704\n",
      "# of neighbours: 400, distance: cosine, selection_method: majority_voting\n",
      "{'max_f': 8000, 'use_idf': True, 'smooth_idf': True, 'ngram_range': (1, 1)} 0.8284444444444444\n",
      "# of neighbours: 400, distance: cosine, selection_method: majority_voting\n",
      "{'max_f': 8000, 'use_idf': True, 'smooth_idf': True, 'ngram_range': (1, 2)} 0.8311111111111111\n",
      "# of neighbours: 400, distance: cosine, selection_method: majority_voting\n",
      "{'max_f': 8000, 'use_idf': True, 'smooth_idf': True, 'ngram_range': (2, 2)} 0.7306666666666667\n",
      "# of neighbours: 400, distance: cosine, selection_method: majority_voting\n",
      "{'max_f': 8000, 'use_idf': True, 'smooth_idf': False, 'ngram_range': (1, 1)} 0.83\n",
      "# of neighbours: 400, distance: cosine, selection_method: majority_voting\n",
      "{'max_f': 8000, 'use_idf': True, 'smooth_idf': False, 'ngram_range': (1, 2)} 0.8317777777777777\n",
      "# of neighbours: 400, distance: cosine, selection_method: majority_voting\n",
      "{'max_f': 8000, 'use_idf': True, 'smooth_idf': False, 'ngram_range': (2, 2)} 0.7302222222222222\n",
      "# of neighbours: 400, distance: cosine, selection_method: majority_voting\n",
      "{'max_f': 8000, 'use_idf': False, 'smooth_idf': True, 'ngram_range': (1, 1)} 0.7824444444444445\n",
      "# of neighbours: 400, distance: cosine, selection_method: majority_voting\n",
      "{'max_f': 8000, 'use_idf': False, 'smooth_idf': True, 'ngram_range': (1, 2)} 0.7877777777777778\n",
      "# of neighbours: 400, distance: cosine, selection_method: majority_voting\n",
      "{'max_f': 8000, 'use_idf': False, 'smooth_idf': True, 'ngram_range': (2, 2)} 0.7106666666666667\n",
      "# of neighbours: 400, distance: cosine, selection_method: majority_voting\n",
      "{'max_f': 8000, 'use_idf': False, 'smooth_idf': False, 'ngram_range': (1, 1)} 0.7824444444444445\n",
      "# of neighbours: 400, distance: cosine, selection_method: majority_voting\n",
      "{'max_f': 8000, 'use_idf': False, 'smooth_idf': False, 'ngram_range': (1, 2)} 0.7877777777777778\n",
      "# of neighbours: 400, distance: cosine, selection_method: majority_voting\n",
      "{'max_f': 8000, 'use_idf': False, 'smooth_idf': False, 'ngram_range': (2, 2)} 0.7106666666666667\n",
      "# of neighbours: 400, distance: cosine, selection_method: majority_voting\n",
      "{'max_f': 11000, 'use_idf': True, 'smooth_idf': True, 'ngram_range': (1, 1)} 0.8304444444444444\n",
      "# of neighbours: 400, distance: cosine, selection_method: majority_voting\n",
      "{'max_f': 11000, 'use_idf': True, 'smooth_idf': True, 'ngram_range': (1, 2)} 0.8293333333333334\n",
      "# of neighbours: 400, distance: cosine, selection_method: majority_voting\n",
      "{'max_f': 11000, 'use_idf': True, 'smooth_idf': True, 'ngram_range': (2, 2)} 0.7313333333333333\n",
      "# of neighbours: 400, distance: cosine, selection_method: majority_voting\n",
      "{'max_f': 11000, 'use_idf': True, 'smooth_idf': False, 'ngram_range': (1, 1)} 0.832\n",
      "# of neighbours: 400, distance: cosine, selection_method: majority_voting\n",
      "{'max_f': 11000, 'use_idf': True, 'smooth_idf': False, 'ngram_range': (1, 2)} 0.8304444444444444\n",
      "# of neighbours: 400, distance: cosine, selection_method: majority_voting\n",
      "{'max_f': 11000, 'use_idf': True, 'smooth_idf': False, 'ngram_range': (2, 2)} 0.7324444444444445\n",
      "# of neighbours: 400, distance: cosine, selection_method: majority_voting\n",
      "{'max_f': 11000, 'use_idf': False, 'smooth_idf': True, 'ngram_range': (1, 1)} 0.782\n",
      "# of neighbours: 400, distance: cosine, selection_method: majority_voting\n",
      "{'max_f': 11000, 'use_idf': False, 'smooth_idf': True, 'ngram_range': (1, 2)} 0.7871111111111111\n",
      "# of neighbours: 400, distance: cosine, selection_method: majority_voting\n",
      "{'max_f': 11000, 'use_idf': False, 'smooth_idf': True, 'ngram_range': (2, 2)} 0.7124444444444444\n",
      "# of neighbours: 400, distance: cosine, selection_method: majority_voting\n",
      "{'max_f': 11000, 'use_idf': False, 'smooth_idf': False, 'ngram_range': (1, 1)} 0.782\n",
      "# of neighbours: 400, distance: cosine, selection_method: majority_voting\n",
      "{'max_f': 11000, 'use_idf': False, 'smooth_idf': False, 'ngram_range': (1, 2)} 0.7871111111111111\n",
      "# of neighbours: 400, distance: cosine, selection_method: majority_voting\n",
      "{'max_f': 11000, 'use_idf': False, 'smooth_idf': False, 'ngram_range': (2, 2)} 0.7124444444444444\n",
      "# of neighbours: 400, distance: cosine, selection_method: majority_voting\n",
      "{'max_f': 14000, 'use_idf': True, 'smooth_idf': True, 'ngram_range': (1, 1)} 0.8317777777777777\n",
      "# of neighbours: 400, distance: cosine, selection_method: majority_voting\n",
      "{'max_f': 14000, 'use_idf': True, 'smooth_idf': True, 'ngram_range': (1, 2)} 0.8306666666666667\n",
      "# of neighbours: 400, distance: cosine, selection_method: majority_voting\n",
      "{'max_f': 14000, 'use_idf': True, 'smooth_idf': True, 'ngram_range': (2, 2)} 0.7313333333333333\n",
      "# of neighbours: 400, distance: cosine, selection_method: majority_voting\n",
      "{'max_f': 14000, 'use_idf': True, 'smooth_idf': False, 'ngram_range': (1, 1)} 0.8297777777777777\n",
      "# of neighbours: 400, distance: cosine, selection_method: majority_voting\n",
      "{'max_f': 14000, 'use_idf': True, 'smooth_idf': False, 'ngram_range': (1, 2)} 0.8295555555555556\n",
      "# of neighbours: 400, distance: cosine, selection_method: majority_voting\n",
      "{'max_f': 14000, 'use_idf': True, 'smooth_idf': False, 'ngram_range': (2, 2)} 0.7333333333333333\n",
      "# of neighbours: 400, distance: cosine, selection_method: majority_voting\n",
      "{'max_f': 14000, 'use_idf': False, 'smooth_idf': True, 'ngram_range': (1, 1)} 0.7817777777777778\n",
      "# of neighbours: 400, distance: cosine, selection_method: majority_voting\n",
      "{'max_f': 14000, 'use_idf': False, 'smooth_idf': True, 'ngram_range': (1, 2)} 0.788\n",
      "# of neighbours: 400, distance: cosine, selection_method: majority_voting\n",
      "{'max_f': 14000, 'use_idf': False, 'smooth_idf': True, 'ngram_range': (2, 2)} 0.7151111111111111\n",
      "# of neighbours: 400, distance: cosine, selection_method: majority_voting\n",
      "{'max_f': 14000, 'use_idf': False, 'smooth_idf': False, 'ngram_range': (1, 1)} 0.7817777777777778\n",
      "# of neighbours: 400, distance: cosine, selection_method: majority_voting\n",
      "{'max_f': 14000, 'use_idf': False, 'smooth_idf': False, 'ngram_range': (1, 2)} 0.788\n",
      "# of neighbours: 400, distance: cosine, selection_method: majority_voting\n",
      "{'max_f': 14000, 'use_idf': False, 'smooth_idf': False, 'ngram_range': (2, 2)} 0.7151111111111111\n",
      "# of neighbours: 400, distance: cosine, selection_method: majority_voting\n",
      "{'max_f': 17000, 'use_idf': True, 'smooth_idf': True, 'ngram_range': (1, 1)} 0.8315555555555556\n"
     ]
    },
    {
     "name": "stdout",
     "output_type": "stream",
     "text": [
      "# of neighbours: 400, distance: cosine, selection_method: majority_voting\n",
      "{'max_f': 17000, 'use_idf': True, 'smooth_idf': True, 'ngram_range': (1, 2)} 0.8311111111111111\n",
      "# of neighbours: 400, distance: cosine, selection_method: majority_voting\n",
      "{'max_f': 17000, 'use_idf': True, 'smooth_idf': True, 'ngram_range': (2, 2)} 0.7364444444444445\n",
      "# of neighbours: 400, distance: cosine, selection_method: majority_voting\n",
      "{'max_f': 17000, 'use_idf': True, 'smooth_idf': False, 'ngram_range': (1, 1)} 0.83\n",
      "# of neighbours: 400, distance: cosine, selection_method: majority_voting\n",
      "{'max_f': 17000, 'use_idf': True, 'smooth_idf': False, 'ngram_range': (1, 2)} 0.8311111111111111\n",
      "# of neighbours: 400, distance: cosine, selection_method: majority_voting\n",
      "{'max_f': 17000, 'use_idf': True, 'smooth_idf': False, 'ngram_range': (2, 2)} 0.736\n",
      "# of neighbours: 400, distance: cosine, selection_method: majority_voting\n",
      "{'max_f': 17000, 'use_idf': False, 'smooth_idf': True, 'ngram_range': (1, 1)} 0.7822222222222223\n",
      "# of neighbours: 400, distance: cosine, selection_method: majority_voting\n",
      "{'max_f': 17000, 'use_idf': False, 'smooth_idf': True, 'ngram_range': (1, 2)} 0.7884444444444444\n",
      "# of neighbours: 400, distance: cosine, selection_method: majority_voting\n",
      "{'max_f': 17000, 'use_idf': False, 'smooth_idf': True, 'ngram_range': (2, 2)} 0.7142222222222222\n",
      "# of neighbours: 400, distance: cosine, selection_method: majority_voting\n",
      "{'max_f': 17000, 'use_idf': False, 'smooth_idf': False, 'ngram_range': (1, 1)} 0.7822222222222223\n",
      "# of neighbours: 400, distance: cosine, selection_method: majority_voting\n",
      "{'max_f': 17000, 'use_idf': False, 'smooth_idf': False, 'ngram_range': (1, 2)} 0.7884444444444444\n",
      "# of neighbours: 400, distance: cosine, selection_method: majority_voting\n",
      "{'max_f': 17000, 'use_idf': False, 'smooth_idf': False, 'ngram_range': (2, 2)} 0.7142222222222222\n",
      "# of neighbours: 400, distance: cosine, selection_method: majority_voting\n",
      "{'max_f': 20000, 'use_idf': True, 'smooth_idf': True, 'ngram_range': (1, 1)} 0.8313333333333334\n",
      "# of neighbours: 400, distance: cosine, selection_method: majority_voting\n",
      "{'max_f': 20000, 'use_idf': True, 'smooth_idf': True, 'ngram_range': (1, 2)} 0.832\n",
      "# of neighbours: 400, distance: cosine, selection_method: majority_voting\n",
      "{'max_f': 20000, 'use_idf': True, 'smooth_idf': True, 'ngram_range': (2, 2)} 0.7368888888888889\n",
      "# of neighbours: 400, distance: cosine, selection_method: majority_voting\n",
      "{'max_f': 20000, 'use_idf': True, 'smooth_idf': False, 'ngram_range': (1, 1)} 0.8324444444444444\n",
      "# of neighbours: 400, distance: cosine, selection_method: majority_voting\n",
      "{'max_f': 20000, 'use_idf': True, 'smooth_idf': False, 'ngram_range': (1, 2)} 0.8315555555555556\n",
      "# of neighbours: 400, distance: cosine, selection_method: majority_voting\n",
      "{'max_f': 20000, 'use_idf': True, 'smooth_idf': False, 'ngram_range': (2, 2)} 0.7373333333333333\n",
      "# of neighbours: 400, distance: cosine, selection_method: majority_voting\n",
      "{'max_f': 20000, 'use_idf': False, 'smooth_idf': True, 'ngram_range': (1, 1)} 0.7813333333333333\n",
      "# of neighbours: 400, distance: cosine, selection_method: majority_voting\n",
      "{'max_f': 20000, 'use_idf': False, 'smooth_idf': True, 'ngram_range': (1, 2)} 0.7866666666666666\n",
      "# of neighbours: 400, distance: cosine, selection_method: majority_voting\n",
      "{'max_f': 20000, 'use_idf': False, 'smooth_idf': True, 'ngram_range': (2, 2)} 0.7142222222222222\n",
      "# of neighbours: 400, distance: cosine, selection_method: majority_voting\n",
      "{'max_f': 20000, 'use_idf': False, 'smooth_idf': False, 'ngram_range': (1, 1)} 0.7813333333333333\n",
      "# of neighbours: 400, distance: cosine, selection_method: majority_voting\n",
      "{'max_f': 20000, 'use_idf': False, 'smooth_idf': False, 'ngram_range': (1, 2)} 0.7866666666666666\n",
      "# of neighbours: 400, distance: cosine, selection_method: majority_voting\n",
      "{'max_f': 20000, 'use_idf': False, 'smooth_idf': False, 'ngram_range': (2, 2)} 0.7142222222222222\n"
     ]
    }
   ],
   "source": [
    "X_train_df, X_test_df, y_train, y_test = train_test_split(train_df.iloc[:,1:], train_df['sentiment'].values, \n",
    "                                                    test_size=0.30, random_state=42)\n",
    "\n",
    "# norm = 'l2',min_df = 0, use_idf = True, smooth_idf = False, \n",
    "#                                  sublinear_tf = True, \\\n",
    "#                              ngram_range=(1,2), max_features = 9000\n",
    "\n",
    "tfidf_best = {}\n",
    "max_acc = 0\n",
    "for max_feature in range(5000, 22000, 3000):\n",
    "    for use_idf in [True, False]:\n",
    "        for smooth_idf in [True, False]:\n",
    "            for ngram_range in [(1,1), (1,2), (2,2)]:\n",
    "                features = {'max_f': max_feature,\n",
    "                           'use_idf': use_idf,\n",
    "                           'smooth_idf': smooth_idf,\n",
    "                           'ngram_range': ngram_range}\n",
    "                X_train, X_test = createTFIDFMatrices(X_train_df['preprocessed'], X_test_df['preprocessed'], \n",
    "                                                      features, True)\n",
    "# # X_train, X_test = senti_multiply(X_train_df, X_test_df, X_train, X_test)\n",
    "\n",
    "                knn = KNN(optimal_neighbour,'cosine','majority_voting')\n",
    "                knn.fit(X_train, y_train)\n",
    "                y_pred = knn.predict(X_test)\n",
    "                acc = evaluation(y_test, y_pred,['-1','1'], 'Classification report (knn):', 'print_off')\n",
    "                if acc>max_acc:\n",
    "                    max_acc = acc\n",
    "                    tfidf_best = features\n",
    "                print(features , acc)"
   ]
  },
  {
   "cell_type": "code",
   "execution_count": 32,
   "metadata": {},
   "outputs": [
    {
     "data": {
      "text/plain": [
       "{'max_f': 20000, 'use_idf': True, 'smooth_idf': False, 'ngram_range': (1, 1)}"
      ]
     },
     "execution_count": 32,
     "metadata": {},
     "output_type": "execute_result"
    }
   ],
   "source": [
    "tfidf_best"
   ]
  },
  {
   "cell_type": "markdown",
   "metadata": {},
   "source": [
    "## Save the final model output"
   ]
  },
  {
   "cell_type": "code",
   "execution_count": 33,
   "metadata": {},
   "outputs": [
    {
     "name": "stdout",
     "output_type": "stream",
     "text": [
      "# of neighbours: 400, distance: cosine, selection_method: majority_voting\n"
     ]
    }
   ],
   "source": [
    "X_train, X_test = createTFIDFMatrices(train_df['preprocessed'], test_df['preprocessed'], tfidf_best, True)\n",
    "y_train = train_df['sentiment'].values\n",
    "knn = KNN(optimal_neighbour,'cosine','majority_voting')\n",
    "knn.fit(X_train, y_train)\n",
    "y_pred = knn.predict(X_test)\n",
    "y_pred = ['-1' if y==-1 else '+1' for y in y_pred]\n",
    "\n",
    "save_output(y_pred,'output')"
   ]
  },
  {
   "cell_type": "code",
   "execution_count": null,
   "metadata": {},
   "outputs": [],
   "source": []
  },
  {
   "cell_type": "code",
   "execution_count": null,
   "metadata": {},
   "outputs": [],
   "source": []
  }
 ],
 "metadata": {
  "kernelspec": {
   "display_name": "Python 3",
   "language": "python",
   "name": "python3"
  },
  "language_info": {
   "codemirror_mode": {
    "name": "ipython",
    "version": 3
   },
   "file_extension": ".py",
   "mimetype": "text/x-python",
   "name": "python",
   "nbconvert_exporter": "python",
   "pygments_lexer": "ipython3",
   "version": "3.7.6"
  }
 },
 "nbformat": 4,
 "nbformat_minor": 4
}
